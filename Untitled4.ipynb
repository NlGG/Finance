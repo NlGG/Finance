{
 "cells": [
  {
   "cell_type": "code",
   "execution_count": 2,
   "metadata": {
    "collapsed": false
   },
   "outputs": [
    {
     "name": "stderr",
     "output_type": "stream",
     "text": [
      "INFO: Precompiling module BasisMatrices.\n",
      "WARNING: could not import Base.lastidx into LegacyStrings\n",
      "WARNING: Method definition (::Type{QuantEcon.LQ})(Union{T<:Any, Array{T<:Any, N<:Any}}, Union{T<:Any, Array{T<:Any, N<:Any}}, Union{T<:Any, Array{T<:Any, N<:Any}}, Union{T<:Any, Array{T<:Any, N<:Any}}, Union{T<:Any, Array{T<:Any, N<:Any}}, Union{T<:Any, Array{T<:Any, N<:Any}}) in module QuantEcon at /Users/NIGG/.julia/v0.5/QuantEcon/src/lqcontrol.jl:117 overwritten at /Users/NIGG/.julia/v0.5/QuantEcon/src/lqcontrol.jl:140.\n",
      "WARNING: Method definition (::Type{QuantEcon.LSS})(Union{T<:Any, Array{T<:Any, N<:Any}}, Union{T<:Any, Array{T<:Any, N<:Any}}, Union{T<:Any, Array{T<:Any, N<:Any}}) in module QuantEcon at /Users/NIGG/.julia/v0.5/QuantEcon/src/lss.jl:85 overwritten at /Users/NIGG/.julia/v0.5/QuantEcon/src/lss.jl:109.\n",
      "WARNING: Method definition quadrect(Function, Any, Any, Any) in module QuantEcon at /Users/NIGG/.julia/v0.5/QuantEcon/src/quad.jl:793 overwritten at /Users/NIGG/.julia/v0.5/QuantEcon/src/quad.jl:810.\n"
     ]
    }
   ],
   "source": [
    "using BasisMatrices"
   ]
  },
  {
   "cell_type": "code",
   "execution_count": 3,
   "metadata": {
    "collapsed": false
   },
   "outputs": [
    {
     "data": {
      "text/plain": [
       "UMFPACK LU Factorization of a (270,270) sparse matrix\n",
       "Ptr{Void} @0x00007fecb6bb5b30\n"
      ]
     },
     "execution_count": 3,
     "metadata": {},
     "output_type": "execute_result"
    }
   ],
   "source": [
    "ygrid0 = linspace(-4, 4, 10)\n",
    "agrid0 = linspace(0.0.^0.4, 100.0.^0.4, 25).^(1/0.4)\n",
    "\n",
    "# method one, using the Basis constructor multiple times\n",
    "basis = Basis(SplineParams(agrid0, 0, 3),  # cubic spline\n",
    "              SplineParams(ygrid0, 0, 1))  # linear\n",
    "\n",
    "# method two, constructing separately, then calling `Basis` with the two\n",
    "a_basis = Basis(SplineParams(agrid0, 0, 3))\n",
    "y_basis = Basis(SplineParams(ygrid0, 0, 1))\n",
    "basis = Basis(a_basis, y_basis)\n",
    "\n",
    "# Construct state vector (matrix). Note that for higher order splines points\n",
    "# are added to the input vector, so let's extract the actual grid points used\n",
    "# from the second argument\n",
    "S, (agrid, ygrid) = nodes(basis)\n",
    "\n",
    "# construct basis matrix and its lu-factorization for very fast inversion\n",
    "# NOTE: I am doing this in a round-about way. I could have just done\n",
    "#       Φ = BasisMatrix(basis), but doing it this way gives me the direct\n",
    "#       representation so I get Φ_y without repeating any calculations\n",
    "Φ_direct = BasisMatrix(basis, Direct(), S, [0 0])\n",
    "Φ_y = Φ_direct.vals[2]\n",
    "Φ = convert(Expanded, Φ_direct, [0 0]).vals[1]\n",
    "lu_Φ = lufact(Φ)"
   ]
  },
  {
   "cell_type": "code",
   "execution_count": null,
   "metadata": {
    "collapsed": true
   },
   "outputs": [],
   "source": []
  }
 ],
 "metadata": {
  "kernelspec": {
   "display_name": "Julia 0.5.0",
   "language": "julia",
   "name": "julia-0.5"
  },
  "language_info": {
   "file_extension": ".jl",
   "mimetype": "application/julia",
   "name": "julia",
   "version": "0.5.0"
  }
 },
 "nbformat": 4,
 "nbformat_minor": 0
}
