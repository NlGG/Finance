{
 "cells": [
  {
   "cell_type": "code",
   "execution_count": 22,
   "metadata": {
    "collapsed": false
   },
   "outputs": [],
   "source": [
    "%matplotlib inline\n",
    "\n",
    "import pandas as pd\n",
    "import matplotlib.pyplot as plt"
   ]
  },
  {
   "cell_type": "code",
   "execution_count": 11,
   "metadata": {
    "collapsed": false
   },
   "outputs": [
    {
     "name": "stdout",
     "output_type": "stream",
     "text": [
      "2016-04-28 00:00:00 522.4 478.9 528 528\n",
      "2016-04-27 00:00:00 520 532.4 535.8 535.8\n",
      "2016-04-26 00:00:00 540 534.6 541.7 541.7\n",
      "2016-04-25 00:00:00 553.4 546.5 553.9 553.9\n",
      "2016-04-22 00:00:00 523.3 549 549 549\n",
      "2016-04-21 00:00:00 520 528 528.5 528.5\n",
      "2016-04-20 00:00:00 515 508 518.5 518.5\n",
      "2016-04-19 00:00:00 500.5 508.1 512.2 512.2\n",
      "2016-04-18 00:00:00 485 490.4 493.3 493.3\n",
      "2016-04-15 00:00:00 506 507.9 516.5 516.5\n"
     ]
    },
    {
     "name": "stderr",
     "output_type": "stream",
     "text": [
      "/Users/NIGG/anaconda/lib/python3.5/site-packages/bs4/__init__.py:166: UserWarning: No parser was explicitly specified, so I'm using the best available HTML parser for this system (\"lxml\"). This usually isn't a problem, but if you run this code on another system, or in a different virtual environment, it may use a different parser and behave differently.\n",
      "\n",
      "To get rid of this warning, change this:\n",
      "\n",
      " BeautifulSoup([your markup])\n",
      "\n",
      "to this:\n",
      "\n",
      " BeautifulSoup([your markup], \"lxml\")\n",
      "\n",
      "  markup_type=markup_type))\n"
     ]
    }
   ],
   "source": [
    "import jsm\n",
    "q = jsm.Quotes()\n",
    "\n",
    "import datetime\n",
    "\n",
    "start_date = datetime.date(2016,4,1)\n",
    "end_date = datetime.date(2016,5,1)\n",
    "\n",
    "nomura_holdings = q.get_historical_prices(8604, jsm.DAILY, start_date = start_date, end_date = end_date)\n",
    "\n",
    "daiwa_securities = q.get_historical_prices(8601, jsm.DAILY, start_date = start_date, end_date = end_date)\n",
    "\n",
    "nomura_stock_list = [each_day_data.date for each_day_data in nomura_holdings]\n",
    "\n",
    "nomura_date_list = [each_day_data.date for each_day_data in nomura_holdings]\n",
    "\n",
    "nomura_open_list = [each_day_data.open for each_day_data in nomura_holdings]\n",
    "\n",
    "nomura_close_list = [each_day_data.close for each_day_data in nomura_holdings]\n",
    "\n",
    "nomura_high_list = [each_day_data.high for each_day_data in nomura_holdings]\n",
    "\n",
    "nomura_low_list = [each_day_data.low for each_day_data in nomura_holdings]\n",
    "\n",
    "for (date, open, close, high, low) in zip(nomura_date_list[0:10], nomura_open_list[0:10], nomura_close_list[0:10],\\\n",
    "nomura_high_list[0:10], nomura_high_list[0:10]):\n",
    "    print(date, open, close, high, low)"
   ]
  },
  {
   "cell_type": "code",
   "execution_count": 12,
   "metadata": {
    "collapsed": false
   },
   "outputs": [
    {
     "name": "stdout",
     "output_type": "stream",
     "text": [
      "['2016-04-28', '2016-04-27', '2016-04-26', '2016-04-25', '2016-04-22', '2016-04-21', '2016-04-20', '2016-04-19', '2016-04-18', '2016-04-15']\n"
     ]
    }
   ],
   "source": [
    "nomura_date_str = [str(x)[0:10] for x in nomura_date_list]\n",
    "\n",
    "print(nomura_date_str[0:10])"
   ]
  },
  {
   "cell_type": "code",
   "execution_count": 13,
   "metadata": {
    "collapsed": false
   },
   "outputs": [
    {
     "name": "stdout",
     "output_type": "stream",
     "text": [
      "<class 'pandas.core.frame.DataFrame'>\n"
     ]
    }
   ],
   "source": [
    "nomura_daily_stock_df = pd.DataFrame([nomura_date_str, nomura_open_list, nomura_close_list, \\\n",
    "nomura_high_list, nomura_low_list])\n",
    "\n",
    "import types\n",
    "\n",
    "print(type(nomura_daily_stock_df))"
   ]
  },
  {
   "cell_type": "code",
   "execution_count": 14,
   "metadata": {
    "collapsed": false
   },
   "outputs": [
    {
     "data": {
      "text/html": [
       "<div>\n",
       "<table border=\"1\" class=\"dataframe\">\n",
       "  <thead>\n",
       "    <tr style=\"text-align: right;\">\n",
       "      <th></th>\n",
       "      <th>0</th>\n",
       "      <th>1</th>\n",
       "      <th>2</th>\n",
       "      <th>3</th>\n",
       "      <th>4</th>\n",
       "      <th>5</th>\n",
       "      <th>6</th>\n",
       "      <th>7</th>\n",
       "      <th>8</th>\n",
       "      <th>9</th>\n",
       "      <th>10</th>\n",
       "      <th>11</th>\n",
       "      <th>12</th>\n",
       "      <th>13</th>\n",
       "      <th>14</th>\n",
       "      <th>15</th>\n",
       "      <th>16</th>\n",
       "      <th>17</th>\n",
       "      <th>18</th>\n",
       "      <th>19</th>\n",
       "    </tr>\n",
       "  </thead>\n",
       "  <tbody>\n",
       "    <tr>\n",
       "      <th>0</th>\n",
       "      <td>2016-04-28</td>\n",
       "      <td>2016-04-27</td>\n",
       "      <td>2016-04-26</td>\n",
       "      <td>2016-04-25</td>\n",
       "      <td>2016-04-22</td>\n",
       "      <td>2016-04-21</td>\n",
       "      <td>2016-04-20</td>\n",
       "      <td>2016-04-19</td>\n",
       "      <td>2016-04-18</td>\n",
       "      <td>2016-04-15</td>\n",
       "      <td>2016-04-14</td>\n",
       "      <td>2016-04-13</td>\n",
       "      <td>2016-04-12</td>\n",
       "      <td>2016-04-11</td>\n",
       "      <td>2016-04-08</td>\n",
       "      <td>2016-04-07</td>\n",
       "      <td>2016-04-06</td>\n",
       "      <td>2016-04-05</td>\n",
       "      <td>2016-04-04</td>\n",
       "      <td>2016-04-01</td>\n",
       "    </tr>\n",
       "    <tr>\n",
       "      <th>1</th>\n",
       "      <td>522.4</td>\n",
       "      <td>520</td>\n",
       "      <td>540</td>\n",
       "      <td>553.4</td>\n",
       "      <td>523.3</td>\n",
       "      <td>520</td>\n",
       "      <td>515</td>\n",
       "      <td>500.5</td>\n",
       "      <td>485</td>\n",
       "      <td>506</td>\n",
       "      <td>505</td>\n",
       "      <td>485</td>\n",
       "      <td>452.8</td>\n",
       "      <td>455.7</td>\n",
       "      <td>440</td>\n",
       "      <td>448.5</td>\n",
       "      <td>446</td>\n",
       "      <td>460</td>\n",
       "      <td>473.4</td>\n",
       "      <td>500</td>\n",
       "    </tr>\n",
       "    <tr>\n",
       "      <th>2</th>\n",
       "      <td>478.9</td>\n",
       "      <td>532.4</td>\n",
       "      <td>534.6</td>\n",
       "      <td>546.5</td>\n",
       "      <td>549</td>\n",
       "      <td>528</td>\n",
       "      <td>508</td>\n",
       "      <td>508.1</td>\n",
       "      <td>490.4</td>\n",
       "      <td>507.9</td>\n",
       "      <td>511.6</td>\n",
       "      <td>489.3</td>\n",
       "      <td>481.5</td>\n",
       "      <td>448.2</td>\n",
       "      <td>454.4</td>\n",
       "      <td>447</td>\n",
       "      <td>452.2</td>\n",
       "      <td>449.6</td>\n",
       "      <td>466.4</td>\n",
       "      <td>479.6</td>\n",
       "    </tr>\n",
       "    <tr>\n",
       "      <th>3</th>\n",
       "      <td>528</td>\n",
       "      <td>535.8</td>\n",
       "      <td>541.7</td>\n",
       "      <td>553.9</td>\n",
       "      <td>549</td>\n",
       "      <td>528.5</td>\n",
       "      <td>518.5</td>\n",
       "      <td>512.2</td>\n",
       "      <td>493.3</td>\n",
       "      <td>516.5</td>\n",
       "      <td>514.6</td>\n",
       "      <td>492.7</td>\n",
       "      <td>487.3</td>\n",
       "      <td>457</td>\n",
       "      <td>464</td>\n",
       "      <td>454.5</td>\n",
       "      <td>455</td>\n",
       "      <td>461.8</td>\n",
       "      <td>483.1</td>\n",
       "      <td>504</td>\n",
       "    </tr>\n",
       "    <tr>\n",
       "      <th>4</th>\n",
       "      <td>477</td>\n",
       "      <td>520</td>\n",
       "      <td>527.6</td>\n",
       "      <td>540.8</td>\n",
       "      <td>522</td>\n",
       "      <td>515.3</td>\n",
       "      <td>502.2</td>\n",
       "      <td>498.7</td>\n",
       "      <td>480.1</td>\n",
       "      <td>501</td>\n",
       "      <td>500.3</td>\n",
       "      <td>473.3</td>\n",
       "      <td>450.3</td>\n",
       "      <td>439.3</td>\n",
       "      <td>435.1</td>\n",
       "      <td>443</td>\n",
       "      <td>443.4</td>\n",
       "      <td>449.2</td>\n",
       "      <td>464.6</td>\n",
       "      <td>478.7</td>\n",
       "    </tr>\n",
       "  </tbody>\n",
       "</table>\n",
       "</div>"
      ],
      "text/plain": [
       "           0           1           2           3           4           5   \\\n",
       "0  2016-04-28  2016-04-27  2016-04-26  2016-04-25  2016-04-22  2016-04-21   \n",
       "1       522.4         520         540       553.4       523.3         520   \n",
       "2       478.9       532.4       534.6       546.5         549         528   \n",
       "3         528       535.8       541.7       553.9         549       528.5   \n",
       "4         477         520       527.6       540.8         522       515.3   \n",
       "\n",
       "           6           7           8           9           10          11  \\\n",
       "0  2016-04-20  2016-04-19  2016-04-18  2016-04-15  2016-04-14  2016-04-13   \n",
       "1         515       500.5         485         506         505         485   \n",
       "2         508       508.1       490.4       507.9       511.6       489.3   \n",
       "3       518.5       512.2       493.3       516.5       514.6       492.7   \n",
       "4       502.2       498.7       480.1         501       500.3       473.3   \n",
       "\n",
       "           12          13          14          15          16          17  \\\n",
       "0  2016-04-12  2016-04-11  2016-04-08  2016-04-07  2016-04-06  2016-04-05   \n",
       "1       452.8       455.7         440       448.5         446         460   \n",
       "2       481.5       448.2       454.4         447       452.2       449.6   \n",
       "3       487.3         457         464       454.5         455       461.8   \n",
       "4       450.3       439.3       435.1         443       443.4       449.2   \n",
       "\n",
       "           18          19  \n",
       "0  2016-04-04  2016-04-01  \n",
       "1       473.4         500  \n",
       "2       466.4       479.6  \n",
       "3       483.1         504  \n",
       "4       464.6       478.7  "
      ]
     },
     "execution_count": 14,
     "metadata": {},
     "output_type": "execute_result"
    }
   ],
   "source": [
    "nomura_daily_stock_df"
   ]
  },
  {
   "cell_type": "code",
   "execution_count": 15,
   "metadata": {
    "collapsed": false
   },
   "outputs": [
    {
     "data": {
      "text/plain": [
       "{'close': [478.9,\n",
       "  532.4,\n",
       "  534.6,\n",
       "  546.5,\n",
       "  549,\n",
       "  528,\n",
       "  508,\n",
       "  508.1,\n",
       "  490.4,\n",
       "  507.9,\n",
       "  511.6,\n",
       "  489.3,\n",
       "  481.5,\n",
       "  448.2,\n",
       "  454.4,\n",
       "  447,\n",
       "  452.2,\n",
       "  449.6,\n",
       "  466.4,\n",
       "  479.6],\n",
       " 'date': ['2016-04-28',\n",
       "  '2016-04-27',\n",
       "  '2016-04-26',\n",
       "  '2016-04-25',\n",
       "  '2016-04-22',\n",
       "  '2016-04-21',\n",
       "  '2016-04-20',\n",
       "  '2016-04-19',\n",
       "  '2016-04-18',\n",
       "  '2016-04-15',\n",
       "  '2016-04-14',\n",
       "  '2016-04-13',\n",
       "  '2016-04-12',\n",
       "  '2016-04-11',\n",
       "  '2016-04-08',\n",
       "  '2016-04-07',\n",
       "  '2016-04-06',\n",
       "  '2016-04-05',\n",
       "  '2016-04-04',\n",
       "  '2016-04-01'],\n",
       " 'high': [528,\n",
       "  535.8,\n",
       "  541.7,\n",
       "  553.9,\n",
       "  549,\n",
       "  528.5,\n",
       "  518.5,\n",
       "  512.2,\n",
       "  493.3,\n",
       "  516.5,\n",
       "  514.6,\n",
       "  492.7,\n",
       "  487.3,\n",
       "  457,\n",
       "  464,\n",
       "  454.5,\n",
       "  455,\n",
       "  461.8,\n",
       "  483.1,\n",
       "  504],\n",
       " 'low': [477,\n",
       "  520,\n",
       "  527.6,\n",
       "  540.8,\n",
       "  522,\n",
       "  515.3,\n",
       "  502.2,\n",
       "  498.7,\n",
       "  480.1,\n",
       "  501,\n",
       "  500.3,\n",
       "  473.3,\n",
       "  450.3,\n",
       "  439.3,\n",
       "  435.1,\n",
       "  443,\n",
       "  443.4,\n",
       "  449.2,\n",
       "  464.6,\n",
       "  478.7],\n",
       " 'open': [522.4,\n",
       "  520,\n",
       "  540,\n",
       "  553.4,\n",
       "  523.3,\n",
       "  520,\n",
       "  515,\n",
       "  500.5,\n",
       "  485,\n",
       "  506,\n",
       "  505,\n",
       "  485,\n",
       "  452.8,\n",
       "  455.7,\n",
       "  440,\n",
       "  448.5,\n",
       "  446,\n",
       "  460,\n",
       "  473.4,\n",
       "  500]}"
      ]
     },
     "execution_count": 15,
     "metadata": {},
     "output_type": "execute_result"
    }
   ],
   "source": [
    "nomura_daily_stock = {'date':nomura_date_str, 'open':nomura_open_list,\\\n",
    "'close':nomura_close_list, 'high':nomura_high_list, 'low':nomura_low_list}\n",
    "\n",
    "nomura_daily_stock\n"
   ]
  },
  {
   "cell_type": "code",
   "execution_count": 16,
   "metadata": {
    "collapsed": false
   },
   "outputs": [
    {
     "data": {
      "text/html": [
       "<div>\n",
       "<table border=\"1\" class=\"dataframe\">\n",
       "  <thead>\n",
       "    <tr style=\"text-align: right;\">\n",
       "      <th></th>\n",
       "      <th>close</th>\n",
       "      <th>date</th>\n",
       "      <th>high</th>\n",
       "      <th>low</th>\n",
       "      <th>open</th>\n",
       "    </tr>\n",
       "  </thead>\n",
       "  <tbody>\n",
       "    <tr>\n",
       "      <th>0</th>\n",
       "      <td>478.9</td>\n",
       "      <td>2016-04-28</td>\n",
       "      <td>528.0</td>\n",
       "      <td>477.0</td>\n",
       "      <td>522.4</td>\n",
       "    </tr>\n",
       "    <tr>\n",
       "      <th>1</th>\n",
       "      <td>532.4</td>\n",
       "      <td>2016-04-27</td>\n",
       "      <td>535.8</td>\n",
       "      <td>520.0</td>\n",
       "      <td>520.0</td>\n",
       "    </tr>\n",
       "    <tr>\n",
       "      <th>2</th>\n",
       "      <td>534.6</td>\n",
       "      <td>2016-04-26</td>\n",
       "      <td>541.7</td>\n",
       "      <td>527.6</td>\n",
       "      <td>540.0</td>\n",
       "    </tr>\n",
       "    <tr>\n",
       "      <th>3</th>\n",
       "      <td>546.5</td>\n",
       "      <td>2016-04-25</td>\n",
       "      <td>553.9</td>\n",
       "      <td>540.8</td>\n",
       "      <td>553.4</td>\n",
       "    </tr>\n",
       "    <tr>\n",
       "      <th>4</th>\n",
       "      <td>549.0</td>\n",
       "      <td>2016-04-22</td>\n",
       "      <td>549.0</td>\n",
       "      <td>522.0</td>\n",
       "      <td>523.3</td>\n",
       "    </tr>\n",
       "    <tr>\n",
       "      <th>5</th>\n",
       "      <td>528.0</td>\n",
       "      <td>2016-04-21</td>\n",
       "      <td>528.5</td>\n",
       "      <td>515.3</td>\n",
       "      <td>520.0</td>\n",
       "    </tr>\n",
       "    <tr>\n",
       "      <th>6</th>\n",
       "      <td>508.0</td>\n",
       "      <td>2016-04-20</td>\n",
       "      <td>518.5</td>\n",
       "      <td>502.2</td>\n",
       "      <td>515.0</td>\n",
       "    </tr>\n",
       "    <tr>\n",
       "      <th>7</th>\n",
       "      <td>508.1</td>\n",
       "      <td>2016-04-19</td>\n",
       "      <td>512.2</td>\n",
       "      <td>498.7</td>\n",
       "      <td>500.5</td>\n",
       "    </tr>\n",
       "    <tr>\n",
       "      <th>8</th>\n",
       "      <td>490.4</td>\n",
       "      <td>2016-04-18</td>\n",
       "      <td>493.3</td>\n",
       "      <td>480.1</td>\n",
       "      <td>485.0</td>\n",
       "    </tr>\n",
       "    <tr>\n",
       "      <th>9</th>\n",
       "      <td>507.9</td>\n",
       "      <td>2016-04-15</td>\n",
       "      <td>516.5</td>\n",
       "      <td>501.0</td>\n",
       "      <td>506.0</td>\n",
       "    </tr>\n",
       "    <tr>\n",
       "      <th>10</th>\n",
       "      <td>511.6</td>\n",
       "      <td>2016-04-14</td>\n",
       "      <td>514.6</td>\n",
       "      <td>500.3</td>\n",
       "      <td>505.0</td>\n",
       "    </tr>\n",
       "    <tr>\n",
       "      <th>11</th>\n",
       "      <td>489.3</td>\n",
       "      <td>2016-04-13</td>\n",
       "      <td>492.7</td>\n",
       "      <td>473.3</td>\n",
       "      <td>485.0</td>\n",
       "    </tr>\n",
       "    <tr>\n",
       "      <th>12</th>\n",
       "      <td>481.5</td>\n",
       "      <td>2016-04-12</td>\n",
       "      <td>487.3</td>\n",
       "      <td>450.3</td>\n",
       "      <td>452.8</td>\n",
       "    </tr>\n",
       "    <tr>\n",
       "      <th>13</th>\n",
       "      <td>448.2</td>\n",
       "      <td>2016-04-11</td>\n",
       "      <td>457.0</td>\n",
       "      <td>439.3</td>\n",
       "      <td>455.7</td>\n",
       "    </tr>\n",
       "    <tr>\n",
       "      <th>14</th>\n",
       "      <td>454.4</td>\n",
       "      <td>2016-04-08</td>\n",
       "      <td>464.0</td>\n",
       "      <td>435.1</td>\n",
       "      <td>440.0</td>\n",
       "    </tr>\n",
       "    <tr>\n",
       "      <th>15</th>\n",
       "      <td>447.0</td>\n",
       "      <td>2016-04-07</td>\n",
       "      <td>454.5</td>\n",
       "      <td>443.0</td>\n",
       "      <td>448.5</td>\n",
       "    </tr>\n",
       "    <tr>\n",
       "      <th>16</th>\n",
       "      <td>452.2</td>\n",
       "      <td>2016-04-06</td>\n",
       "      <td>455.0</td>\n",
       "      <td>443.4</td>\n",
       "      <td>446.0</td>\n",
       "    </tr>\n",
       "    <tr>\n",
       "      <th>17</th>\n",
       "      <td>449.6</td>\n",
       "      <td>2016-04-05</td>\n",
       "      <td>461.8</td>\n",
       "      <td>449.2</td>\n",
       "      <td>460.0</td>\n",
       "    </tr>\n",
       "    <tr>\n",
       "      <th>18</th>\n",
       "      <td>466.4</td>\n",
       "      <td>2016-04-04</td>\n",
       "      <td>483.1</td>\n",
       "      <td>464.6</td>\n",
       "      <td>473.4</td>\n",
       "    </tr>\n",
       "    <tr>\n",
       "      <th>19</th>\n",
       "      <td>479.6</td>\n",
       "      <td>2016-04-01</td>\n",
       "      <td>504.0</td>\n",
       "      <td>478.7</td>\n",
       "      <td>500.0</td>\n",
       "    </tr>\n",
       "  </tbody>\n",
       "</table>\n",
       "</div>"
      ],
      "text/plain": [
       "    close        date   high    low   open\n",
       "0   478.9  2016-04-28  528.0  477.0  522.4\n",
       "1   532.4  2016-04-27  535.8  520.0  520.0\n",
       "2   534.6  2016-04-26  541.7  527.6  540.0\n",
       "3   546.5  2016-04-25  553.9  540.8  553.4\n",
       "4   549.0  2016-04-22  549.0  522.0  523.3\n",
       "5   528.0  2016-04-21  528.5  515.3  520.0\n",
       "6   508.0  2016-04-20  518.5  502.2  515.0\n",
       "7   508.1  2016-04-19  512.2  498.7  500.5\n",
       "8   490.4  2016-04-18  493.3  480.1  485.0\n",
       "9   507.9  2016-04-15  516.5  501.0  506.0\n",
       "10  511.6  2016-04-14  514.6  500.3  505.0\n",
       "11  489.3  2016-04-13  492.7  473.3  485.0\n",
       "12  481.5  2016-04-12  487.3  450.3  452.8\n",
       "13  448.2  2016-04-11  457.0  439.3  455.7\n",
       "14  454.4  2016-04-08  464.0  435.1  440.0\n",
       "15  447.0  2016-04-07  454.5  443.0  448.5\n",
       "16  452.2  2016-04-06  455.0  443.4  446.0\n",
       "17  449.6  2016-04-05  461.8  449.2  460.0\n",
       "18  466.4  2016-04-04  483.1  464.6  473.4\n",
       "19  479.6  2016-04-01  504.0  478.7  500.0"
      ]
     },
     "execution_count": 16,
     "metadata": {},
     "output_type": "execute_result"
    }
   ],
   "source": [
    "from pandas import DataFrame\n",
    "\n",
    "nomura_daily_stock_df = DataFrame(nomura_daily_stock)\n",
    "\n",
    "nomura_daily_stock_df"
   ]
  },
  {
   "cell_type": "code",
   "execution_count": 23,
   "metadata": {
    "collapsed": false
   },
   "outputs": [
    {
     "data": {
      "text/plain": [
       "<matplotlib.figure.Figure at 0x1158aaa20>"
      ]
     },
     "metadata": {},
     "output_type": "display_data"
    },
    {
     "data": {
      "image/png": "[encoded data removed]",
      "text/plain": [
       "<matplotlib.figure.Figure at 0x1158bb9e8>"
      ]
     },
     "metadata": {},
     "output_type": "display_data"
    }
   ],
   "source": [
    "plt.figure()\n",
    "\n",
    "nomura_daily_stock_df.plot()\n",
    "\n",
    "plt.show()"
   ]
  },
  {
   "cell_type": "code",
   "execution_count": 24,
   "metadata": {
    "collapsed": false
   },
   "outputs": [
    {
     "data": {
      "text/plain": [
       "<matplotlib.figure.Figure at 0x1155c0780>"
      ]
     },
     "metadata": {},
     "output_type": "display_data"
    },
    {
     "data": {
      "image/png": "[encoded data removed]",
      "text/plain": [
       "<matplotlib.figure.Figure at 0x114e574e0>"
      ]
     },
     "metadata": {},
     "output_type": "display_data"
    }
   ],
   "source": [
    "plt.figure()\n",
    "\n",
    "nomura_daily_stock_df.plot()\n",
    "\n",
    "plt.savefig(\"野村ホールディングス 株価 日次（原型列）推移グラフ\")"
   ]
  },
  {
   "cell_type": "code",
   "execution_count": 31,
   "metadata": {
    "collapsed": false
   },
   "outputs": [
    {
     "data": {
      "image/png": "[encoded data removed]",
      "text/plain": [
       "<matplotlib.figure.Figure at 0x115108160>"
      ]
     },
     "metadata": {},
     "output_type": "display_data"
    }
   ],
   "source": [
    "from pylab import *\n",
    "\n",
    "nomura_daily_stock_df.plot(subplots=True, figsize=(6,6)); plt.legend(loc='best')\n",
    "\n",
    "plt.show()"
   ]
  },
  {
   "cell_type": "code",
   "execution_count": 32,
   "metadata": {
    "collapsed": false
   },
   "outputs": [
    {
     "data": {
      "image/png": "[encoded data removed]",
      "text/plain": [
       "<matplotlib.figure.Figure at 0x114e06438>"
      ]
     },
     "metadata": {},
     "output_type": "display_data"
    }
   ],
   "source": [
    "from pylab import *\n",
    "\n",
    "nomura_daily_stock_df.plot(subplots=True, figsize=(6,6)); plt.legend(loc='best')\n",
    "\n",
    "plt.savefig(\"野村ホールディングス 株価 日次（原型列）推移グラフ（段組みグラフ）\")"
   ]
  },
  {
   "cell_type": "code",
   "execution_count": 33,
   "metadata": {
    "collapsed": false
   },
   "outputs": [
    {
     "ename": "ValueError",
     "evalue": "No engine for filetype: 'xks'",
     "output_type": "error",
     "traceback": [
      "\u001b[0;31m---------------------------------------------------------------------------\u001b[0m",
      "\u001b[0;31mOptionError\u001b[0m                               Traceback (most recent call last)",
      "\u001b[0;32m/Users/NIGG/anaconda/lib/python3.5/site-packages/pandas/io/excel.py\u001b[0m in \u001b[0;36m__new__\u001b[0;34m(cls, path, engine, **kwargs)\u001b[0m\n\u001b[1;32m    565\u001b[0m                 \u001b[0;32mtry\u001b[0m\u001b[0;34m:\u001b[0m\u001b[0;34m\u001b[0m\u001b[0m\n\u001b[0;32m--> 566\u001b[0;31m                     \u001b[0mengine\u001b[0m \u001b[0;34m=\u001b[0m \u001b[0mconfig\u001b[0m\u001b[0;34m.\u001b[0m\u001b[0mget_option\u001b[0m\u001b[0;34m(\u001b[0m\u001b[0;34m'io.excel.%s.writer'\u001b[0m \u001b[0;34m%\u001b[0m \u001b[0mext\u001b[0m\u001b[0;34m)\u001b[0m\u001b[0;34m\u001b[0m\u001b[0m\n\u001b[0m\u001b[1;32m    567\u001b[0m                 \u001b[0;32mexcept\u001b[0m \u001b[0mKeyError\u001b[0m\u001b[0;34m:\u001b[0m\u001b[0;34m\u001b[0m\u001b[0m\n",
      "\u001b[0;32m/Users/NIGG/anaconda/lib/python3.5/site-packages/pandas/core/config.py\u001b[0m in \u001b[0;36m__call__\u001b[0;34m(self, *args, **kwds)\u001b[0m\n\u001b[1;32m    221\u001b[0m     \u001b[0;32mdef\u001b[0m \u001b[0m__call__\u001b[0m\u001b[0;34m(\u001b[0m\u001b[0mself\u001b[0m\u001b[0;34m,\u001b[0m \u001b[0;34m*\u001b[0m\u001b[0margs\u001b[0m\u001b[0;34m,\u001b[0m \u001b[0;34m**\u001b[0m\u001b[0mkwds\u001b[0m\u001b[0;34m)\u001b[0m\u001b[0;34m:\u001b[0m\u001b[0;34m\u001b[0m\u001b[0m\n\u001b[0;32m--> 222\u001b[0;31m         \u001b[0;32mreturn\u001b[0m \u001b[0mself\u001b[0m\u001b[0;34m.\u001b[0m\u001b[0m__func__\u001b[0m\u001b[0;34m(\u001b[0m\u001b[0;34m*\u001b[0m\u001b[0margs\u001b[0m\u001b[0;34m,\u001b[0m \u001b[0;34m**\u001b[0m\u001b[0mkwds\u001b[0m\u001b[0;34m)\u001b[0m\u001b[0;34m\u001b[0m\u001b[0m\n\u001b[0m\u001b[1;32m    223\u001b[0m \u001b[0;34m\u001b[0m\u001b[0m\n",
      "\u001b[0;32m/Users/NIGG/anaconda/lib/python3.5/site-packages/pandas/core/config.py\u001b[0m in \u001b[0;36m_get_option\u001b[0;34m(pat, silent)\u001b[0m\n\u001b[1;32m     96\u001b[0m \u001b[0;32mdef\u001b[0m \u001b[0m_get_option\u001b[0m\u001b[0;34m(\u001b[0m\u001b[0mpat\u001b[0m\u001b[0;34m,\u001b[0m \u001b[0msilent\u001b[0m\u001b[0;34m=\u001b[0m\u001b[0;32mFalse\u001b[0m\u001b[0;34m)\u001b[0m\u001b[0;34m:\u001b[0m\u001b[0;34m\u001b[0m\u001b[0m\n\u001b[0;32m---> 97\u001b[0;31m     \u001b[0mkey\u001b[0m \u001b[0;34m=\u001b[0m \u001b[0m_get_single_key\u001b[0m\u001b[0;34m(\u001b[0m\u001b[0mpat\u001b[0m\u001b[0;34m,\u001b[0m \u001b[0msilent\u001b[0m\u001b[0;34m)\u001b[0m\u001b[0;34m\u001b[0m\u001b[0m\n\u001b[0m\u001b[1;32m     98\u001b[0m \u001b[0;34m\u001b[0m\u001b[0m\n",
      "\u001b[0;32m/Users/NIGG/anaconda/lib/python3.5/site-packages/pandas/core/config.py\u001b[0m in \u001b[0;36m_get_single_key\u001b[0;34m(pat, silent)\u001b[0m\n\u001b[1;32m     82\u001b[0m             \u001b[0m_warn_if_deprecated\u001b[0m\u001b[0;34m(\u001b[0m\u001b[0mpat\u001b[0m\u001b[0;34m)\u001b[0m\u001b[0;34m\u001b[0m\u001b[0m\n\u001b[0;32m---> 83\u001b[0;31m         \u001b[0;32mraise\u001b[0m \u001b[0mOptionError\u001b[0m\u001b[0;34m(\u001b[0m\u001b[0;34m'No such keys(s): %r'\u001b[0m \u001b[0;34m%\u001b[0m \u001b[0mpat\u001b[0m\u001b[0;34m)\u001b[0m\u001b[0;34m\u001b[0m\u001b[0m\n\u001b[0m\u001b[1;32m     84\u001b[0m     \u001b[0;32mif\u001b[0m \u001b[0mlen\u001b[0m\u001b[0;34m(\u001b[0m\u001b[0mkeys\u001b[0m\u001b[0;34m)\u001b[0m \u001b[0;34m>\u001b[0m \u001b[0;36m1\u001b[0m\u001b[0;34m:\u001b[0m\u001b[0;34m\u001b[0m\u001b[0m\n",
      "\u001b[0;31mOptionError\u001b[0m: \"No such keys(s): 'io.excel.xks.writer'\"",
      "\nDuring handling of the above exception, another exception occurred:\n",
      "\u001b[0;31mValueError\u001b[0m                                Traceback (most recent call last)",
      "\u001b[0;32m<ipython-input-33-1da6c962c935>\u001b[0m in \u001b[0;36m<module>\u001b[0;34m()\u001b[0m\n\u001b[1;32m      1\u001b[0m \u001b[0;32mimport\u001b[0m \u001b[0mxlsxwriter\u001b[0m\u001b[0;34m\u001b[0m\u001b[0m\n\u001b[1;32m      2\u001b[0m \u001b[0;34m\u001b[0m\u001b[0m\n\u001b[0;32m----> 3\u001b[0;31m \u001b[0mnomura_daily_stock_df\u001b[0m\u001b[0;34m.\u001b[0m\u001b[0mto_excel\u001b[0m\u001b[0;34m(\u001b[0m\u001b[0;34m'野村Hldg.株価日次推移（原型列）計数データ.xks'\u001b[0m\u001b[0;34m,\u001b[0m \u001b[0msheet_name\u001b[0m\u001b[0;34m=\u001b[0m\u001b[0;34m'計数データ'\u001b[0m\u001b[0;34m)\u001b[0m\u001b[0;34m\u001b[0m\u001b[0m\n\u001b[0m",
      "\u001b[0;32m/Users/NIGG/anaconda/lib/python3.5/site-packages/pandas/core/frame.py\u001b[0m in \u001b[0;36mto_excel\u001b[0;34m(self, excel_writer, sheet_name, na_rep, float_format, columns, header, index, index_label, startrow, startcol, engine, merge_cells, encoding, inf_rep, verbose)\u001b[0m\n\u001b[1;32m   1401\u001b[0m \u001b[0;34m\u001b[0m\u001b[0m\n\u001b[1;32m   1402\u001b[0m         \u001b[0;32mif\u001b[0m \u001b[0misinstance\u001b[0m\u001b[0;34m(\u001b[0m\u001b[0mexcel_writer\u001b[0m\u001b[0;34m,\u001b[0m \u001b[0mcompat\u001b[0m\u001b[0;34m.\u001b[0m\u001b[0mstring_types\u001b[0m\u001b[0;34m)\u001b[0m\u001b[0;34m:\u001b[0m\u001b[0;34m\u001b[0m\u001b[0m\n\u001b[0;32m-> 1403\u001b[0;31m             \u001b[0mexcel_writer\u001b[0m \u001b[0;34m=\u001b[0m \u001b[0mExcelWriter\u001b[0m\u001b[0;34m(\u001b[0m\u001b[0mexcel_writer\u001b[0m\u001b[0;34m,\u001b[0m \u001b[0mengine\u001b[0m\u001b[0;34m=\u001b[0m\u001b[0mengine\u001b[0m\u001b[0;34m)\u001b[0m\u001b[0;34m\u001b[0m\u001b[0m\n\u001b[0m\u001b[1;32m   1404\u001b[0m             \u001b[0mneed_save\u001b[0m \u001b[0;34m=\u001b[0m \u001b[0;32mTrue\u001b[0m\u001b[0;34m\u001b[0m\u001b[0m\n\u001b[1;32m   1405\u001b[0m \u001b[0;34m\u001b[0m\u001b[0m\n",
      "\u001b[0;32m/Users/NIGG/anaconda/lib/python3.5/site-packages/pandas/io/excel.py\u001b[0m in \u001b[0;36m__new__\u001b[0;34m(cls, path, engine, **kwargs)\u001b[0m\n\u001b[1;32m    567\u001b[0m                 \u001b[0;32mexcept\u001b[0m \u001b[0mKeyError\u001b[0m\u001b[0;34m:\u001b[0m\u001b[0;34m\u001b[0m\u001b[0m\n\u001b[1;32m    568\u001b[0m                     \u001b[0merror\u001b[0m \u001b[0;34m=\u001b[0m \u001b[0mValueError\u001b[0m\u001b[0;34m(\u001b[0m\u001b[0;34m\"No engine for filetype: '%s'\"\u001b[0m \u001b[0;34m%\u001b[0m \u001b[0mext\u001b[0m\u001b[0;34m)\u001b[0m\u001b[0;34m\u001b[0m\u001b[0m\n\u001b[0;32m--> 569\u001b[0;31m                     \u001b[0;32mraise\u001b[0m \u001b[0merror\u001b[0m\u001b[0;34m\u001b[0m\u001b[0m\n\u001b[0m\u001b[1;32m    570\u001b[0m             \u001b[0mcls\u001b[0m \u001b[0;34m=\u001b[0m \u001b[0mget_writer\u001b[0m\u001b[0;34m(\u001b[0m\u001b[0mengine\u001b[0m\u001b[0;34m)\u001b[0m\u001b[0;34m\u001b[0m\u001b[0m\n\u001b[1;32m    571\u001b[0m \u001b[0;34m\u001b[0m\u001b[0m\n",
      "\u001b[0;31mValueError\u001b[0m: No engine for filetype: 'xks'"
     ]
    }
   ],
   "source": [
    "import xlsxwriter\n",
    "\n",
    "nomura_daily_stock_df.to_excel('野村Hldg.株価日次推移（原型列）計数データ.xks', sheet_name='計数データ')"
   ]
  },
  {
   "cell_type": "code",
   "execution_count": 34,
   "metadata": {
    "collapsed": true
   },
   "outputs": [],
   "source": [
    "import xlsxwriter"
   ]
  },
  {
   "cell_type": "code",
   "execution_count": null,
   "metadata": {
    "collapsed": true
   },
   "outputs": [],
   "source": []
  }
 ],
 "metadata": {
  "kernelspec": {
   "display_name": "Python 3",
   "language": "python",
   "name": "python3"
  },
  "language_info": {
   "codemirror_mode": {
    "name": "ipython",
    "version": 3
   },
   "file_extension": ".py",
   "mimetype": "text/x-python",
   "name": "python",
   "nbconvert_exporter": "python",
   "pygments_lexer": "ipython3",
   "version": "3.5.1"
  }
 },
 "nbformat": 4,
 "nbformat_minor": 0
}
