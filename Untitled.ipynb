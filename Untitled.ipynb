{
 "cells": [
  {
   "cell_type": "markdown",
   "metadata": {},
   "source": [
    "# DiscreteDP Example: Automobile Replacement"
   ]
  },
  {
   "cell_type": "markdown",
   "metadata": {},
   "source": [
    "**Daisuke Oyama**\n",
    "\n",
    "*Faculty of Economics, University of Tokyo*"
   ]
  },
  {
   "cell_type": "markdown",
   "metadata": {},
   "source": [
    "We study the finite-state version of the automobile replacement problem as considered in\n",
    "Rust (1996, Section 4.2.2)."
   ]
  },
  {
   "cell_type": "markdown",
   "metadata": {},
   "source": [
    "* J. Rust, \"Numerical Dynamic Programming in Economics\",\n",
    "  <i>Handbook of Computational Economics</i>, Volume 1, 619-729, 1996."
   ]
  },
  {
   "cell_type": "code",
   "execution_count": 136,
   "metadata": {
    "collapsed": false
   },
   "outputs": [
    {
     "name": "stderr",
     "output_type": "stream",
     "text": [
      "INFO: Precompiling module Roots...\n",
      "WARNING: New definition \n",
      "    atan2(ForwardDiff.GradientNumber, Real) at /Users/NIGG/.julia/v0.4/ForwardDiff/src/GradientNumber.jl:208\n",
      "is ambiguous with: \n",
      "    atan2(Real, ForwardDiff.GradientNumber) at /Users/NIGG/.julia/v0.4/ForwardDiff/src/GradientNumber.jl:208.\n",
      "To fix, define \n",
      "    atan2(ForwardDiff.GradientNumber, ForwardDiff.GradientNumber)\n",
      "before the new definition.\n",
      "WARNING: New definition \n",
      "    *(Real, ForwardDiff.HessianNumber) at /Users/NIGG/.julia/v0.4/ForwardDiff/src/HessianNumber.jl:98\n",
      "is ambiguous with: \n",
      "    *(ForwardDiff.HessianNumber, Real) at /Users/NIGG/.julia/v0.4/ForwardDiff/src/HessianNumber.jl:97.\n",
      "To fix, define \n",
      "    *(ForwardDiff.HessianNumber, ForwardDiff.HessianNumber)\n",
      "before the new definition.\n",
      "WARNING: New definition \n",
      "    /(Real, ForwardDiff.HessianNumber) at /Users/NIGG/.julia/v0.4/ForwardDiff/src/HessianNumber.jl:126\n",
      "is ambiguous with: \n",
      "    /(ForwardDiff.HessianNumber, Real) at /Users/NIGG/.julia/v0.4/ForwardDiff/src/HessianNumber.jl:123.\n",
      "To fix, define \n",
      "    /(ForwardDiff.HessianNumber, ForwardDiff.HessianNumber)\n",
      "before the new definition.\n",
      "WARNING: New definition \n",
      "    ^(Real, ForwardDiff.HessianNumber) at /Users/NIGG/.julia/v0.4/ForwardDiff/src/HessianNumber.jl:176\n",
      "is ambiguous with: \n",
      "    ^(ForwardDiff.HessianNumber, Real) at /Users/NIGG/.julia/v0.4/ForwardDiff/src/HessianNumber.jl:167.\n",
      "To fix, define \n",
      "    ^(ForwardDiff.HessianNumber, ForwardDiff.HessianNumber)\n",
      "before the new definition.\n",
      "WARNING: New definition \n",
      "    atan2(ForwardDiff.HessianNumber, Real) at /Users/NIGG/.julia/v0.4/ForwardDiff/src/HessianNumber.jl:268\n",
      "is ambiguous with: \n",
      "    atan2(Real, ForwardDiff.HessianNumber) at /Users/NIGG/.julia/v0.4/ForwardDiff/src/HessianNumber.jl:268.\n",
      "To fix, define \n",
      "    atan2(ForwardDiff.HessianNumber, ForwardDiff.HessianNumber)\n",
      "before the new definition.\n",
      "WARNING: New definition \n",
      "    *(Real, ForwardDiff.TensorNumber) at /Users/NIGG/.julia/v0.4/ForwardDiff/src/TensorNumber.jl:107\n",
      "is ambiguous with: \n",
      "    *(ForwardDiff.TensorNumber, Real) at /Users/NIGG/.julia/v0.4/ForwardDiff/src/TensorNumber.jl:106.\n",
      "To fix, define \n",
      "    *(ForwardDiff.TensorNumber, ForwardDiff.TensorNumber)\n",
      "before the new definition.\n",
      "WARNING: New definition \n",
      "    /(Real, ForwardDiff.TensorNumber) at /Users/NIGG/.julia/v0.4/ForwardDiff/src/TensorNumber.jl:142\n",
      "is ambiguous with: \n",
      "    /(ForwardDiff.TensorNumber, Real) at /Users/NIGG/.julia/v0.4/ForwardDiff/src/TensorNumber.jl:139.\n",
      "To fix, define \n",
      "    /(ForwardDiff.TensorNumber, ForwardDiff.TensorNumber)\n",
      "before the new definition.\n",
      "WARNING: New definition \n",
      "    ^(Real, ForwardDiff.TensorNumber) at /Users/NIGG/.julia/v0.4/ForwardDiff/src/TensorNumber.jl:211\n",
      "is ambiguous with: \n",
      "    ^(ForwardDiff.TensorNumber, Real) at /Users/NIGG/.julia/v0.4/ForwardDiff/src/TensorNumber.jl:197.\n",
      "To fix, define \n",
      "    ^(ForwardDiff.TensorNumber, ForwardDiff.TensorNumber)\n",
      "before the new definition.\n",
      "WARNING: New definition \n",
      "    atan2(ForwardDiff.TensorNumber, Real) at /Users/NIGG/.julia/v0.4/ForwardDiff/src/TensorNumber.jl:332\n",
      "is ambiguous with: \n",
      "    atan2(Real, ForwardDiff.TensorNumber) at /Users/NIGG/.julia/v0.4/ForwardDiff/src/TensorNumber.jl:332.\n",
      "To fix, define \n",
      "    atan2(ForwardDiff.TensorNumber, ForwardDiff.TensorNumber)\n",
      "before the new definition.\n"
     ]
    }
   ],
   "source": [
    "using QuantEcon\n",
    "using PyPlot\n",
    "using Optim\n",
    "using Roots"
   ]
  },
  {
   "cell_type": "markdown",
   "metadata": {},
   "source": [
    "## Setup"
   ]
  },
  {
   "cell_type": "code",
   "execution_count": 198,
   "metadata": {
    "collapsed": false
   },
   "outputs": [
    {
     "data": {
      "text/plain": [
       "100000"
      ]
     },
     "execution_count": 198,
     "metadata": {},
     "output_type": "execute_result"
    }
   ],
   "source": [
    "lambd = 0.5  # Exponential distribution parameter\n",
    "c = 200  # (Constant) marginal cost of maintainance\n",
    "net_price = 10^5  # Replacement cost"
   ]
  },
  {
   "cell_type": "code",
   "execution_count": 5,
   "metadata": {
    "collapsed": false
   },
   "outputs": [
    {
     "data": {
      "text/plain": [
       "2"
      ]
     },
     "execution_count": 5,
     "metadata": {},
     "output_type": "execute_result"
    }
   ],
   "source": [
    "n = 100  # Number of states; s = 0, ..., n-1: level of utilization of the asset\n",
    "m = 2  # Number of actions; 0: keep, 1: replace"
   ]
  },
  {
   "cell_type": "code",
   "execution_count": 255,
   "metadata": {
    "collapsed": false
   },
   "outputs": [
    {
     "data": {
      "text/plain": [
       "-100000"
      ]
     },
     "execution_count": 255,
     "metadata": {},
     "output_type": "execute_result"
    }
   ],
   "source": [
    "# Reward array\n",
    "R = Array(Float64, (n, m))\n",
    "R[:, 1] = -c .*0  # Costs for maintainance\n",
    "R[:, 2] = -net_price .- c * 0  # Costs for replacement"
   ]
  },
  {
   "cell_type": "code",
   "execution_count": 254,
   "metadata": {
    "collapsed": false
   },
   "outputs": [
    {
     "name": "stderr",
     "output_type": "stream",
     "text": [
      "\n",
      "WARNING: deprecated syntax \"R [\" at In[254]:1.\n",
      "Use \"R[\" instead.\n"
     ]
    },
    {
     "data": {
      "text/plain": [
       "100-element Array{Float64,1}:\n",
       " 2.24578e-314\n",
       " 2.24578e-314\n",
       " 2.24578e-314\n",
       " 2.24578e-314\n",
       " 2.24578e-314\n",
       " 2.24578e-314\n",
       " 2.24578e-314\n",
       " 2.24578e-314\n",
       " 2.24578e-314\n",
       " 2.24578e-314\n",
       " 2.24578e-314\n",
       " 2.24578e-314\n",
       " 2.24578e-314\n",
       " ⋮           \n",
       " 2.24578e-314\n",
       " 2.24578e-314\n",
       " 2.24578e-314\n",
       " 2.24578e-314\n",
       " 2.24578e-314\n",
       " 2.24578e-314\n",
       " 2.24578e-314\n",
       " 2.24578e-314\n",
       " 2.24578e-314\n",
       " 2.24578e-314\n",
       " 2.24578e-314\n",
       " 2.24578e-314"
      ]
     },
     "execution_count": 254,
     "metadata": {},
     "output_type": "execute_result"
    }
   ],
   "source": [
    "R [:, 1]"
   ]
  },
  {
   "cell_type": "code",
   "execution_count": 101,
   "metadata": {
    "collapsed": false
   },
   "outputs": [
    {
     "ename": "LoadError",
     "evalue": "LoadError: type Array has no field sum\nwhile loading In[101], in expression starting on line 1",
     "output_type": "error",
     "traceback": [
      "LoadError: type Array has no field sum\nwhile loading In[101], in expression starting on line 1",
      ""
     ]
    }
   ],
   "source": [
    "R = Array(Float64, (m,n)).sum()"
   ]
  },
  {
   "cell_type": "code",
   "execution_count": 19,
   "metadata": {
    "collapsed": false
   },
   "outputs": [
    {
     "ename": "LoadError",
     "evalue": "LoadError: MethodError: `typed_hcat` has no method matching typed_hcat(::Array{Float64,2}, ::Symbol, ::Int64)\nClosest candidates are:\n  typed_hcat(!Matched::Type{T}, ::Any...)\n  typed_hcat(!Matched::Type{T}, !Matched::Number...)\nwhile loading In[19], in expression starting on line 1",
     "output_type": "error",
     "traceback": [
      "LoadError: MethodError: `typed_hcat` has no method matching typed_hcat(::Array{Float64,2}, ::Symbol, ::Int64)\nClosest candidates are:\n  typed_hcat(!Matched::Type{T}, ::Any...)\n  typed_hcat(!Matched::Type{T}, !Matched::Number...)\nwhile loading In[19], in expression starting on line 1",
      ""
     ]
    }
   ],
   "source": [
    "sum(R[:-2])"
   ]
  },
  {
   "cell_type": "code",
   "execution_count": 69,
   "metadata": {
    "collapsed": false
   },
   "outputs": [
    {
     "data": {
      "text/plain": [
       "2-element Array{Int64,1}:\n",
       " 13097743360\n",
       "           0"
      ]
     },
     "execution_count": 69,
     "metadata": {},
     "output_type": "execute_result"
    }
   ],
   "source": [
    "t = Array(Int64, 2)"
   ]
  },
  {
   "cell_type": "code",
   "execution_count": 14,
   "metadata": {
    "collapsed": false
   },
   "outputs": [
    {
     "data": {
      "text/plain": [
       "0.4930686913952398"
      ]
     },
     "execution_count": 14,
     "metadata": {},
     "output_type": "execute_result"
    }
   ],
   "source": [
    "exp(-lambd ^0.5)"
   ]
  },
  {
   "cell_type": "code",
   "execution_count": 72,
   "metadata": {
    "collapsed": false
   },
   "outputs": [
    {
     "data": {
      "text/plain": [
       "2-element Array{Int64,1}:\n",
       " 1\n",
       " 2"
      ]
     },
     "execution_count": 72,
     "metadata": {},
     "output_type": "execute_result"
    }
   ],
   "source": [
    "t[1:2] = [1, 2]\n",
    "t"
   ]
  },
  {
   "cell_type": "code",
   "execution_count": 119,
   "metadata": {
    "collapsed": false
   },
   "outputs": [],
   "source": [
    "# Transition probability array\n",
    "# For each state s, s' distributes over\n",
    "# s, s+1, ..., min{s+supp_size-1, n-1} if a = 0\n",
    "# 0, 1, ..., supp_size-1 if a = 1\n",
    "# according to the (discretized and truncated) exponential distribution\n",
    "# with parameter lambd\n",
    "supp_size = 12\n",
    "probs = Array(Float64, (supp_size))\n",
    "probs[1] = 1 - exp(-lambd^0.5)\n",
    "for j in 2:supp_size\n",
    "    probs[j] = exp(-lambd^(j - 0.5)) - exp(-lambd^(j + 0.5))\n",
    "end\n",
    "probs[supp_size] = 1 - sum(probs[1:end-1])\n",
    "\n",
    "Q = Array(Float64, (n, m, n))\n",
    "# a = 0\n",
    "for i in 1:n-supp_size\n",
    "    Q[i, 2, i:i+supp_size-1] = probs\n",
    "end\n",
    "for k in 1:supp_size\n",
    "    Q[n-supp_size+k-1, 1, n-supp_size+k:end] = probs[1:supp_size-(k-1)]/sum(probs[1:supp_size-k])\n",
    "end\n",
    "\n",
    "# a = 1\n",
    "for i in 1:n\n",
    "    Q[i, 1, 1:supp_size] = probs\n",
    "end"
   ]
  },
  {
   "cell_type": "code",
   "execution_count": 121,
   "metadata": {
    "collapsed": false
   },
   "outputs": [
    {
     "data": {
      "text/plain": [
       "0.95"
      ]
     },
     "execution_count": 121,
     "metadata": {},
     "output_type": "execute_result"
    }
   ],
   "source": [
    "# Discount factor\n",
    "beta = 0.95"
   ]
  },
  {
   "cell_type": "markdown",
   "metadata": {},
   "source": [
    "## Continuous-state benchmark"
   ]
  },
  {
   "cell_type": "markdown",
   "metadata": {},
   "source": [
    "Let us compute the value function of the continuous-state version\n",
    "as described in equations (2.22) and (2.23) in Section 2.3."
   ]
  },
  {
   "cell_type": "code",
   "execution_count": 226,
   "metadata": {
    "collapsed": false
   },
   "outputs": [
    {
     "data": {
      "text/plain": [
       "f (generic function with 2 methods)"
      ]
     },
     "execution_count": 226,
     "metadata": {},
     "output_type": "execute_result"
    }
   ],
   "source": [
    "function f(x, s)\n",
    "    return (c/(1-beta)) * ((x-s) - (beta/(lambd*(1-beta)))*(1 - exp(-lambd*(1-beta)*(x-s))))\n",
    "end"
   ]
  },
  {
   "cell_type": "markdown",
   "metadata": {},
   "source": [
    "The optimal stopping boundary $\\gamma$ for the contiuous-state version, given by (2.23):"
   ]
  },
  {
   "cell_type": "code",
   "execution_count": 227,
   "metadata": {
    "collapsed": false
   },
   "outputs": [
    {
     "name": "stdout",
     "output_type": "stream",
     "text": [
      "52.86545636058919"
     ]
    }
   ],
   "source": [
    "gamma = fzero(x -> f(x, 0) - net_price, 0, 100)\n",
    "print(gamma)"
   ]
  },
  {
   "cell_type": "markdown",
   "metadata": {},
   "source": [
    "The value function for the continuous-state version, given by (2.24):"
   ]
  },
  {
   "cell_type": "code",
   "execution_count": 235,
   "metadata": {
    "collapsed": false
   },
   "outputs": [
    {
     "data": {
      "text/plain": [
       "value_func_cont_time (generic function with 1 method)"
      ]
     },
     "execution_count": 235,
     "metadata": {},
     "output_type": "execute_result"
    }
   ],
   "source": [
    "function value_func_cont_time(s)\n",
    "    return -c .* gamma ./ (1-beta) + (s .< gamma) .* f(gamma, s)\n",
    "end"
   ]
  },
  {
   "cell_type": "code",
   "execution_count": 236,
   "metadata": {
    "collapsed": false
   },
   "outputs": [
    {
     "data": {
      "text/plain": [
       "100-element Array{Float64,1}:\n",
       "      -1.14436e5\n",
       "      -1.17383e5\n",
       "      -1.20305e5\n",
       "      -1.23198e5\n",
       "      -1.26064e5\n",
       "      -1.28901e5\n",
       "      -1.31709e5\n",
       "      -1.34487e5\n",
       "      -1.37233e5\n",
       " -139948.0      \n",
       "      -1.4263e5 \n",
       "      -1.45279e5\n",
       "      -1.47894e5\n",
       "       ⋮        \n",
       "      -2.11462e5\n",
       "      -2.11462e5\n",
       "      -2.11462e5\n",
       "      -2.11462e5\n",
       "      -2.11462e5\n",
       "      -2.11462e5\n",
       "      -2.11462e5\n",
       "      -2.11462e5\n",
       "      -2.11462e5\n",
       "      -2.11462e5\n",
       "      -2.11462e5\n",
       "      -2.11462e5"
      ]
     },
     "execution_count": 236,
     "metadata": {},
     "output_type": "execute_result"
    }
   ],
   "source": [
    "v_cont = value_func_cont_time(1:100)"
   ]
  },
  {
   "cell_type": "markdown",
   "metadata": {},
   "source": [
    "## Solving the problem with `DiscreteDP`"
   ]
  },
  {
   "cell_type": "markdown",
   "metadata": {},
   "source": [
    "Construct a `DiscreteDP` instance for the disrete-state version:"
   ]
  },
  {
   "cell_type": "code",
   "execution_count": 256,
   "metadata": {
    "collapsed": false
   },
   "outputs": [
    {
     "data": {
      "text/plain": [
       "QuantEcon.DiscreteDP{Float64,3,2,Float64,Int64}(100x2 Array{Float64,2}:\n",
       " 0.0  -100000.0\n",
       " 0.0  -100000.0\n",
       " 0.0  -100000.0\n",
       " 0.0  -100000.0\n",
       " 0.0  -100000.0\n",
       " 0.0  -100000.0\n",
       " 0.0  -100000.0\n",
       " 0.0  -100000.0\n",
       " 0.0  -100000.0\n",
       " 0.0  -100000.0\n",
       " 0.0  -100000.0\n",
       " 0.0  -100000.0\n",
       " 0.0  -100000.0\n",
       " ⋮             \n",
       " 0.0  -100000.0\n",
       " 0.0  -100000.0\n",
       " 0.0  -100000.0\n",
       " 0.0  -100000.0\n",
       " 0.0  -100000.0\n",
       " 0.0  -100000.0\n",
       " 0.0  -100000.0\n",
       " 0.0  -100000.0\n",
       " 0.0  -100000.0\n",
       " 0.0  -100000.0\n",
       " 0.0  -100000.0\n",
       " 0.0  -100000.0,100x2x100 Array{Float64,3}:\n",
       "[:, :, 1] =\n",
       " 0.506931  4.49105e9   \n",
       " 0.506931  8.32188e-315\n",
       " 0.506931  6.61655e-314\n",
       " 0.506931  3.183e-313  \n",
       " 0.506931  6.61655e-314\n",
       " 0.506931  6.61655e-314\n",
       " 0.506931  6.61655e-314\n",
       " 0.506931  6.61655e-314\n",
       " 0.506931  6.61655e-314\n",
       " 0.506931  6.61655e-314\n",
       " 0.506931  6.61655e-314\n",
       " 0.506931  2.122e-314  \n",
       " 0.506931  6.95314e-310\n",
       " ⋮                     \n",
       " 0.506931  6.95314e-310\n",
       " 0.506931  5.99918e-310\n",
       " 0.506931  6.61655e-314\n",
       " 0.506931  8.32188e-315\n",
       " 0.506931  6.61655e-314\n",
       " 0.506931  4.24399e-313\n",
       " 0.506931  6.61655e-314\n",
       " 0.506931  6.61655e-314\n",
       " 0.506931  6.61655e-314\n",
       " 0.506931  6.61655e-314\n",
       " 0.506931  6.61655e-314\n",
       " 0.506931  2.122e-314  \n",
       "\n",
       "[:, :, 2] =\n",
       " -0.135778  4.49105e9   \n",
       " -0.135778  0.506931    \n",
       " -0.135778  3.26787e-311\n",
       " -0.135778  6.36599e-314\n",
       " -0.135778  1.18832e-312\n",
       " -0.135778  0.0         \n",
       " -0.135778  0.0         \n",
       " -0.135778  0.0         \n",
       " -0.135778  6.93925e-310\n",
       " -0.135778  0.0         \n",
       " -0.135778  6.61655e-314\n",
       " -0.135778  0.0         \n",
       " -0.135778  6.61655e-314\n",
       "  ⋮                     \n",
       " -0.135778  0.0         \n",
       " -0.135778  0.0         \n",
       " -0.135778  3.26787e-311\n",
       " -0.135778  6.36599e-314\n",
       " -0.135778  2.75859e-313\n",
       " -0.135778  0.0         \n",
       " -0.135778  0.0         \n",
       " -0.135778  0.0         \n",
       " -0.135778  6.93925e-310\n",
       " -0.135778  0.0         \n",
       " -0.135778  6.61655e-314\n",
       " -0.135778  0.0         \n",
       "\n",
       "[:, :, 3] =\n",
       " -0.0774384   4.49105e9   \n",
       " -0.0774384  -0.135778    \n",
       " -0.0774384   0.506931    \n",
       " -0.0774384   6.61655e-314\n",
       " -0.0774384   6.61655e-314\n",
       " -0.0774384   6.61655e-314\n",
       " -0.0774384   6.61655e-314\n",
       " -0.0774384   2.122e-314  \n",
       " -0.0774384   6.95314e-310\n",
       " -0.0774384   6.61655e-314\n",
       " -0.0774384   2.122e-314  \n",
       " -0.0774384   6.95314e-310\n",
       " -0.0774384   0.0         \n",
       "  ⋮                       \n",
       " -0.0774384   6.61655e-314\n",
       " -0.0774384   0.0         \n",
       " -0.0774384   1.25198e-312\n",
       " -0.0774384   6.61655e-314\n",
       " -0.0774384   6.61655e-314\n",
       " -0.0774384   6.61655e-314\n",
       " -0.0774384   6.61655e-314\n",
       " -0.0774384   2.122e-314  \n",
       " -0.0774384   6.95314e-310\n",
       " -0.0774384   6.61655e-314\n",
       " -0.0774384   6.61655e-314\n",
       " -0.0774384   0.0         \n",
       "\n",
       "...\n",
       "\n",
       "[:, :, 98] =\n",
       "  6.61662e-314  4.94066e-324\n",
       "  0.0           6.61662e-314\n",
       "  2.5464e-313   6.61662e-314\n",
       "  4.94066e-324  0.0         \n",
       "  6.61662e-314  5.09279e-313\n",
       "  6.61662e-314  4.94066e-324\n",
       "  0.0           6.61662e-314\n",
       "  2.5464e-313   6.61662e-314\n",
       "  9.88131e-324  0.0         \n",
       "  6.61662e-314  5.09279e-313\n",
       "  6.61662e-314  4.94066e-324\n",
       "  0.0           6.61662e-314\n",
       "  5.09279e-313  6.61662e-314\n",
       "  ⋮                         \n",
       " -0.00656884    0.0         \n",
       " -0.0130675     2.97079e-313\n",
       " -0.0258577     4.94066e-324\n",
       " -0.0506316     6.61662e-314\n",
       " -0.0971212     6.61662e-314\n",
       " -0.17908       0.0         \n",
       " -0.306867      2.97079e-313\n",
       " -0.46228       4.94066e-324\n",
       "  1.36583       6.61662e-314\n",
       "  6.61662e-314  6.61662e-314\n",
       "  0.0           0.0         \n",
       "  5.09279e-313  2.97079e-313\n",
       "\n",
       "[:, :, 99] =\n",
       "  4.94066e-324  4.94066e-324\n",
       "  6.61662e-314  6.61662e-314\n",
       "  6.61662e-314  6.61662e-314\n",
       "  0.0           0.0         \n",
       "  2.97079e-313  3.18299e-313\n",
       "  4.94066e-324  9.88131e-324\n",
       "  6.61662e-314  6.61662e-314\n",
       "  6.61662e-314  6.61662e-314\n",
       "  0.0           0.0         \n",
       "  2.97079e-313  5.30499e-313\n",
       "  4.94066e-324  4.94066e-324\n",
       "  6.61662e-314  6.61662e-314\n",
       "  6.61662e-314  6.61662e-314\n",
       "  ⋮                         \n",
       " -0.00328783    0.0         \n",
       " -0.00654732    5.30499e-313\n",
       " -0.0129825     4.94066e-324\n",
       " -0.0255264     6.61662e-314\n",
       " -0.0493713     6.61662e-314\n",
       " -0.0925518     6.61656e-314\n",
       " -0.16391       5.30499e-313\n",
       " -0.263652      0.0         \n",
       " -0.365829      0.0         \n",
       "  1.0           6.61662e-314\n",
       "  0.0           0.0         \n",
       "  3.18299e-313  7.21479e-313\n",
       "\n",
       "[:, :, 100] =\n",
       "   4.94066e-324  4.94066e-324\n",
       "   6.61662e-314  6.61662e-314\n",
       "   6.61662e-314  6.61662e-314\n",
       "   0.0           0.0         \n",
       "   7.21479e-313  3.81959e-313\n",
       "   4.94066e-324  4.94066e-324\n",
       "   6.61662e-314  6.61662e-314\n",
       "   6.61662e-314  6.61662e-314\n",
       "   0.0           0.0         \n",
       "   7.21479e-313  3.81959e-313\n",
       "   4.94066e-324  4.94066e-324\n",
       "   6.61662e-314  6.61662e-314\n",
       "   6.61662e-314  6.61662e-314\n",
       "   ⋮                         \n",
       "  -0.00164476    6.61662e-314\n",
       "  -0.00327705    6.61662e-314\n",
       "  -0.00650473    0.0         \n",
       "  -0.0128162     2.5464e-313 \n",
       "  -0.024891      4.94066e-324\n",
       "  -0.0470485     6.61662e-314\n",
       "  -0.0847116     6.61662e-314\n",
       "  -0.140827      0.0         \n",
       "  -0.208643      2.5464e-313 \n",
       "  -0.267844      4.94066e-324\n",
       " Inf             6.61662e-314\n",
       "   3.81959e-313  6.6166e-314 ,0.95,Nullable{Array{Int64,1}}(),Nullable{Array{Int64,1}}(),Nullable{Array{Int64,1}}())"
      ]
     },
     "execution_count": 256,
     "metadata": {},
     "output_type": "execute_result"
    }
   ],
   "source": [
    "ddp = DiscreteDP(R, Q, beta)"
   ]
  },
  {
   "cell_type": "markdown",
   "metadata": {},
   "source": [
    "Let us solve the decision problem by\n",
    "\n",
    "(0) value iteration,  \n",
    "(1) value iteration with span-based termination\n",
    "(equivalent to modified policy iteration with step $k = 0$),  \n",
    "(2) policy iteration,  \n",
    "(3) modified policy iteration."
   ]
  },
  {
   "cell_type": "markdown",
   "metadata": {},
   "source": [
    "Following Rust (1996), we set:\n",
    "\n",
    "* $\\varepsilon = 1164$ (for value iteration and modified policy iteration),\n",
    "* $v^0 \\equiv 0$,\n",
    "* the number of iteration for iterative policy evaluation $k = 20$."
   ]
  },
  {
   "cell_type": "code",
   "execution_count": 326,
   "metadata": {
    "collapsed": false
   },
   "outputs": [
    {
     "ename": "LoadError",
     "evalue": "LoadError: invalid redefinition of constant num_states\nwhile loading In[326], in expression starting on line 1",
     "output_type": "error",
     "traceback": [
      "LoadError: invalid redefinition of constant num_states\nwhile loading In[326], in expression starting on line 1",
      ""
     ]
    }
   ],
   "source": [
    "num_states = size(ddp.R, 1)"
   ]
  },
  {
   "cell_type": "code",
   "execution_count": 344,
   "metadata": {
    "collapsed": false
   },
   "outputs": [
    {
     "name": "stderr",
     "output_type": "stream",
     "text": [
      "\n",
      "WARNING: deprecated syntax \"{}\" at In[344]:6.\n",
      "Use \"[]\" instead.\n"
     ]
    },
    {
     "ename": "LoadError",
     "evalue": "LoadError: syntax: extra token \"if\" after end of expression\nwhile loading In[344], in expression starting on line 9",
     "output_type": "error",
     "traceback": [
      "LoadError: syntax: extra token \"if\" after end of expression\nwhile loading In[344], in expression starting on line 9",
      ""
     ]
    }
   ],
   "source": [
    "v_init = zeros(Float64, num_states(ddp))\n",
    "epsilon = 1164\n",
    "methods = [\"vi\", \"mpi\", \"pi\", \"mpi\"]\n",
    "labels = [\"Value iteration\", \"Value iteration with span-based termination\",\n",
    "          \"Policy iteration\", \"Modified policy iteration\"]\n",
    "results = Dict({})\n",
    "\n",
    "for i in 1:4\n",
    "    k = 20 if labels[i] == \"Modified policy iteration\" else 0\n",
    "    results[labels[i]] = \\\n",
    "        solve(method=methods[i], v_init=v_init, epsilon=epsilon, k=k)"
   ]
  },
  {
   "cell_type": "code",
   "execution_count": 338,
   "metadata": {
    "collapsed": false
   },
   "outputs": [
    {
     "ename": "LoadError",
     "evalue": "LoadError: syntax: invalid character literal\nwhile loading In[338], in expression starting on line 1",
     "output_type": "error",
     "traceback": [
      "LoadError: syntax: invalid character literal\nwhile loading In[338], in expression starting on line 1",
      ""
     ]
    }
   ],
   "source": [
    "methods = ['vi', 'mpi', 'pi', 'mpi']"
   ]
  },
  {
   "cell_type": "code",
   "execution_count": 238,
   "metadata": {
    "collapsed": false
   },
   "outputs": [
    {
     "ename": "LoadError",
     "evalue": "LoadError: UndefVarError: ddp not defined\nwhile loading In[238], in expression starting on line 1",
     "output_type": "error",
     "traceback": [
      "LoadError: UndefVarError: ddp not defined\nwhile loading In[238], in expression starting on line 1",
      ""
     ]
    }
   ],
   "source": [
    "columns = [\n",
    "    'Iterations', 'Time (second)', r'$\\lVert v - v_{\\mathrm{pi}} \\rVert$',\n",
    "    r'$\\overline{b} - \\underline{b}$', r'$\\lVert v - T(v)\\rVert$'\n",
    "]\n",
    "df = pd.DataFrame(index=labels, columns=columns)"
   ]
  },
  {
   "cell_type": "markdown",
   "metadata": {},
   "source": [
    "The numbers of iterations:"
   ]
  },
  {
   "cell_type": "code",
   "execution_count": 262,
   "metadata": {
    "collapsed": false
   },
   "outputs": [
    {
     "ename": "LoadError",
     "evalue": "LoadError: type DiscreteDP has no field num_states\nwhile loading In[262], in expression starting on line 1",
     "output_type": "error",
     "traceback": [
      "LoadError: type DiscreteDP has no field num_states\nwhile loading In[262], in expression starting on line 1",
      ""
     ]
    }
   ],
   "source": [
    "for label in labels:\n",
    "    print(results[label].num_iter, '\\t' + '(' + label + ')')\n",
    "    df[columns[0]].loc[label] = results[label].num_iter"
   ]
  },
  {
   "cell_type": "markdown",
   "metadata": {},
   "source": [
    "Policy iteration gives the optimal policy:"
   ]
  },
  {
   "cell_type": "markdown",
   "metadata": {},
   "source": [
    "Takes action 1 (\"replace\") if and only if $s \\geq \\bar{\\gamma}$, where $\\bar{\\gamma}$ is equal to:"
   ]
  },
  {
   "cell_type": "code",
   "execution_count": 271,
   "metadata": {
    "collapsed": false
   },
   "outputs": [
    {
     "ename": "LoadError",
     "evalue": "LoadError: ArgumentError: stochastic matrix must have nonnegative elements\nwhile loading In[271], in expression starting on line 1",
     "output_type": "error",
     "traceback": [
      "LoadError: ArgumentError: stochastic matrix must have nonnegative elements\nwhile loading In[271], in expression starting on line 1",
      ""
     ]
    }
   ],
   "source": [
    "solve(ddp)"
   ]
  },
  {
   "cell_type": "markdown",
   "metadata": {},
   "source": [
    "Check that the other methods gave the correct answer:"
   ]
  },
  {
   "cell_type": "code",
   "execution_count": 270,
   "metadata": {
    "collapsed": false
   },
   "outputs": [
    {
     "ename": "LoadError",
     "evalue": "LoadError: syntax: line break in \":\" expression\nwhile loading In[270], in expression starting on line 2",
     "output_type": "error",
     "traceback": [
      "LoadError: syntax: line break in \":\" expression\nwhile loading In[270], in expression starting on line 2",
      ""
     ]
    }
   ],
   "source": [
    "for result in results.values():\n",
    "    if result != results['Policy iteration']:\n",
    "        print(np.array_equal(result.sigma, results['Policy iteration'].sigma))"
   ]
  },
  {
   "cell_type": "markdown",
   "metadata": {},
   "source": [
    "The deviations of the returned value function from the continuous-state benchmark:"
   ]
  },
  {
   "cell_type": "code",
   "execution_count": 272,
   "metadata": {
    "collapsed": false
   },
   "outputs": [
    {
     "name": "stderr",
     "output_type": "stream",
     "text": [
      "\n",
      "WARNING: deprecated syntax \"{}\" at In[272]:1.\n",
      "Use \"[]\" instead.\n"
     ]
    },
    {
     "ename": "LoadError",
     "evalue": "LoadError: syntax: line break in \":\" expression\nwhile loading In[272], in expression starting on line 3",
     "output_type": "error",
     "traceback": [
      "LoadError: syntax: line break in \":\" expression\nwhile loading In[272], in expression starting on line 3",
      ""
     ]
    }
   ],
   "source": [
    "diffs_cont = {}\n",
    "for label in labels:\n",
    "    diffs_cont[label] = np.abs(results[label].v - v_cont).max()\n",
    "    print(diffs_cont[label], '\\t' + '(' + label + ')')"
   ]
  },
  {
   "cell_type": "code",
   "execution_count": 273,
   "metadata": {
    "collapsed": false
   },
   "outputs": [
    {
     "ename": "LoadError",
     "evalue": "LoadError: syntax: invalid character literal\nwhile loading In[273], in expression starting on line 1",
     "output_type": "error",
     "traceback": [
      "LoadError: syntax: invalid character literal\nwhile loading In[273], in expression starting on line 1",
      ""
     ]
    }
   ],
   "source": [
    "label = 'Policy iteration'\n",
    "fig, ax = plt.subplots(figsize=(8,5))\n",
    "ax.plot(-v_cont, label='Continuous-state')\n",
    "ax.plot(-results[label].v, label=label)\n",
    "ax.set_title('Comparison of discrete vs. continuous value functions')\n",
    "ax.ticklabel_format(style='sci', axis='y', scilimits=(0,0))\n",
    "ax.set_xlabel('State')\n",
    "ax.set_ylabel(r'Value $\\times\\ (-1)$')\n",
    "plt.legend(loc=4)\n",
    "plt.show()"
   ]
  },
  {
   "cell_type": "markdown",
   "metadata": {},
   "source": [
    "In the following we try to reproduce Table 14.1 in Rust (1996), p.660,\n",
    "although the precise definitions and procedures there are not very clear."
   ]
  },
  {
   "cell_type": "markdown",
   "metadata": {},
   "source": [
    "The maximum absolute differences of $v$ from that by policy iteration:"
   ]
  },
  {
   "cell_type": "code",
   "execution_count": 274,
   "metadata": {
    "collapsed": false
   },
   "outputs": [
    {
     "ename": "LoadError",
     "evalue": "LoadError: syntax: line break in \":\" expression\nwhile loading In[274], in expression starting on line 2",
     "output_type": "error",
     "traceback": [
      "LoadError: syntax: line break in \":\" expression\nwhile loading In[274], in expression starting on line 2",
      ""
     ]
    }
   ],
   "source": [
    "for label in labels:\n",
    "    diff_pi = \\\n",
    "        np.abs(results[label].v - results['Policy iteration'].v).max()\n",
    "    print(diff_pi, '\\t' + '(' + label + ')')\n",
    "    df[columns[2]].loc[label] = diff_pi"
   ]
  },
  {
   "cell_type": "markdown",
   "metadata": {},
   "source": [
    "Compute $\\lVert v - T(v)\\rVert$:"
   ]
  },
  {
   "cell_type": "code",
   "execution_count": 275,
   "metadata": {
    "collapsed": false
   },
   "outputs": [
    {
     "ename": "LoadError",
     "evalue": "LoadError: syntax: line break in \":\" expression\nwhile loading In[275], in expression starting on line 2",
     "output_type": "error",
     "traceback": [
      "LoadError: syntax: line break in \":\" expression\nwhile loading In[275], in expression starting on line 2",
      ""
     ]
    }
   ],
   "source": [
    "for label in labels:\n",
    "    v = results[label].v\n",
    "    diff_max = \\\n",
    "        np.abs(v - ddp.bellman_operator(v)).max()\n",
    "    print(diff_max, '\\t' + '(' + label + ')')\n",
    "    df[columns[4]].loc[label] = diff_max"
   ]
  },
  {
   "cell_type": "markdown",
   "metadata": {},
   "source": [
    "Next we compute $\\overline{b} - \\underline{b}$\n",
    "for the three methods other than policy iteration, where\n",
    "$I$ is the number of iterations required to fulfill the termination condition, and\n",
    "$$\n",
    "\\begin{aligned}\n",
    "\\underline{b} &= \\frac{\\beta}{1-\\beta} \\min\\left[T(v^{I-1}) - v^{I-1}\\right], \\\\\\\\\n",
    "\\overline{b}  &= \\frac{\\beta}{1-\\beta} \\max\\left[T(v^{I-1}) - v^{I-1}\\right].\n",
    "\\end{aligned}\n",
    "$$"
   ]
  },
  {
   "cell_type": "code",
   "execution_count": 276,
   "metadata": {
    "collapsed": false
   },
   "outputs": [
    {
     "ename": "LoadError",
     "evalue": "LoadError: syntax: line break in \":\" expression\nwhile loading In[276], in expression starting on line 2",
     "output_type": "error",
     "traceback": [
      "LoadError: syntax: line break in \":\" expression\nwhile loading In[276], in expression starting on line 2",
      ""
     ]
    }
   ],
   "source": [
    "for i in range(4):\n",
    "    if labels[i] != 'Policy iteration':\n",
    "        k = 20 if labels[i] == 'Modified policy iteration' else 0\n",
    "        res = ddp.solve(method=methods[i], v_init=v_init, k=k,\n",
    "                        max_iter=results[labels[i]].num_iter-1)\n",
    "        diff = ddp.bellman_operator(res.v) - res.v\n",
    "        diff_span = (diff.max() - diff.min()) * ddp.beta / (1 - ddp.beta)\n",
    "        print(diff_span, '\\t' + '(' + labels[i] + ')')\n",
    "        df[columns[3]].loc[labels[i]] = diff_span"
   ]
  },
  {
   "cell_type": "markdown",
   "metadata": {},
   "source": [
    "For policy iteration, while it does not seem really relevant,\n",
    "we compute $\\overline{b} - \\underline{b}$ with the returned value of $v$\n",
    "in place of $v^{I-1}$:"
   ]
  },
  {
   "cell_type": "code",
   "execution_count": 280,
   "metadata": {
    "collapsed": false
   },
   "outputs": [
    {
     "ename": "LoadError",
     "evalue": "LoadError: syntax: invalid character literal\nwhile loading In[280], in expression starting on line 1",
     "output_type": "error",
     "traceback": [
      "LoadError: syntax: invalid character literal\nwhile loading In[280], in expression starting on line 1",
      ""
     ]
    }
   ],
   "source": [
    "label = 'Policy iteration'\n",
    "v = results[label].v\n",
    "diff = ddp.bellman_operator(v) - v\n",
    "diff_span = (diff.max() - diff.min()) * ddp.beta / (1 - ddp.beta)\n",
    "print(diff_span, '\\t' + '(' + label + ')')\n",
    "df[columns[3]].loc[label] = diff_span"
   ]
  },
  {
   "cell_type": "markdown",
   "metadata": {},
   "source": [
    "Last, time each algorithm:"
   ]
  },
  {
   "cell_type": "code",
   "execution_count": 281,
   "metadata": {
    "collapsed": false
   },
   "outputs": [
    {
     "ename": "LoadError",
     "evalue": "LoadError: syntax: line break in \":\" expression\nwhile loading In[281], in expression starting on line 2",
     "output_type": "error",
     "traceback": [
      "LoadError: syntax: line break in \":\" expression\nwhile loading In[281], in expression starting on line 2",
      ""
     ]
    }
   ],
   "source": [
    "for i in range(4):\n",
    "    k = 20 if labels[i] == 'Modified policy iteration' else 0\n",
    "    print(labels[i])\n",
    "    t = %timeit -o ddp.solve(method=methods[i], v_init=v_init, epsilon=epsilon, k=k)\n",
    "    df[columns[1]].loc[labels[i]] = t.best"
   ]
  },
  {
   "cell_type": "code",
   "execution_count": 282,
   "metadata": {
    "collapsed": false
   },
   "outputs": [
    {
     "ename": "LoadError",
     "evalue": "LoadError: UndefVarError: df not defined\nwhile loading In[282], in expression starting on line 1",
     "output_type": "error",
     "traceback": [
      "LoadError: UndefVarError: df not defined\nwhile loading In[282], in expression starting on line 1",
      ""
     ]
    }
   ],
   "source": [
    "df"
   ]
  },
  {
   "cell_type": "markdown",
   "metadata": {},
   "source": [
    "### Notes"
   ]
  },
  {
   "cell_type": "markdown",
   "metadata": {},
   "source": [
    "It appears that our value iteration with span-based termination is different in some details\n",
    "from the corresponding algorithm (successive approximation with error bounds) in Rust.\n",
    "In returing the value function, our algorithm returns\n",
    "$T(v^{I-1}) + (\\overline{b} + \\underline{b})/2$,\n",
    "while Rust's seems to return $v^{I-1} + (\\overline{b} + \\underline{b})/2$.\n",
    "In fact:"
   ]
  },
  {
   "cell_type": "code",
   "execution_count": 283,
   "metadata": {
    "collapsed": false
   },
   "outputs": [
    {
     "ename": "LoadError",
     "evalue": "LoadError: MethodError: `getindex` has no method matching getindex(::Function, ::Int64)\nwhile loading In[283], in expression starting on line 3",
     "output_type": "error",
     "traceback": [
      "LoadError: MethodError: `getindex` has no method matching getindex(::Function, ::Int64)\nwhile loading In[283], in expression starting on line 3",
      ""
     ]
    }
   ],
   "source": [
    "i = 1\n",
    "k = 0\n",
    "res = ddp.solve(method=methods[i], v_init=v_init, k=k,\n",
    "                max_iter=results[labels[i]].num_iter-1)\n",
    "diff = ddp.bellman_operator(res.v) - res.v\n",
    "v = res.v + (diff.max() + diff.min()) * ddp.beta / (1 - ddp.beta) / 2"
   ]
  },
  {
   "cell_type": "markdown",
   "metadata": {},
   "source": [
    "$\\lVert v - v_{\\mathrm{pi}}\\rVert$:"
   ]
  },
  {
   "cell_type": "code",
   "execution_count": 284,
   "metadata": {
    "collapsed": false
   },
   "outputs": [
    {
     "ename": "LoadError",
     "evalue": "LoadError: syntax: invalid character literal\nwhile loading In[284], in expression starting on line 1",
     "output_type": "error",
     "traceback": [
      "LoadError: syntax: invalid character literal\nwhile loading In[284], in expression starting on line 1",
      ""
     ]
    }
   ],
   "source": [
    "np.abs(v - results['Policy iteration'].v).max()"
   ]
  },
  {
   "cell_type": "markdown",
   "metadata": {},
   "source": [
    "Compare the Table in Rust."
   ]
  },
  {
   "cell_type": "markdown",
   "metadata": {},
   "source": [
    "## Convergence of trajectories"
   ]
  },
  {
   "cell_type": "markdown",
   "metadata": {},
   "source": [
    "Let us plot the convergence of $v^i$ for the four algorithms;\n",
    "see also Figure 14.2 in Rust."
   ]
  },
  {
   "cell_type": "markdown",
   "metadata": {},
   "source": [
    "### Value iteration"
   ]
  },
  {
   "cell_type": "code",
   "execution_count": 285,
   "metadata": {
    "collapsed": false
   },
   "outputs": [
    {
     "ename": "LoadError",
     "evalue": "LoadError: syntax: invalid character literal\nwhile loading In[285], in expression starting on line 1",
     "output_type": "error",
     "traceback": [
      "LoadError: syntax: invalid character literal\nwhile loading In[285], in expression starting on line 1",
      ""
     ]
    }
   ],
   "source": [
    "label = 'Value iteration'\n",
    "iters = [2, 20, 40, 80]\n",
    "v = np.zeros(ddp.num_states)\n",
    "\n",
    "fig, ax = plt.subplots(figsize=(8,5))\n",
    "for i in range(iters[-1]):\n",
    "    v = ddp.bellman_operator(v)\n",
    "    if i+1 in iters:\n",
    "        ax.plot(-v, label='Iteration {0}'.format(i+1))\n",
    "ax.plot(-results['Policy iteration'].v, label='Fixed Point')\n",
    "\n",
    "ax.ticklabel_format(style='sci', axis='y', scilimits=(0,0))\n",
    "ax.set_ylim(0, 2.4e5)\n",
    "ax.set_yticks([0.4e5 * i for i in range(7)])\n",
    "ax.set_title(label)\n",
    "ax.set_xlabel('State')\n",
    "ax.set_ylabel(r'Value $\\times\\ (-1)$')\n",
    "plt.legend(loc=(0.7, 0.2))\n",
    "plt.show()"
   ]
  },
  {
   "cell_type": "markdown",
   "metadata": {},
   "source": [
    "### Value iteration with span-based termination"
   ]
  },
  {
   "cell_type": "code",
   "execution_count": 286,
   "metadata": {
    "collapsed": false
   },
   "outputs": [
    {
     "ename": "LoadError",
     "evalue": "LoadError: syntax: invalid character literal\nwhile loading In[286], in expression starting on line 1",
     "output_type": "error",
     "traceback": [
      "LoadError: syntax: invalid character literal\nwhile loading In[286], in expression starting on line 1",
      ""
     ]
    }
   ],
   "source": [
    "label = 'Value iteration with span-based termination'\n",
    "iters = [1, 10, 15, 20]\n",
    "v = np.zeros(ddp.num_states)\n",
    "\n",
    "fig, ax = plt.subplots(figsize=(8,5))\n",
    "for i in range(iters[-1]):\n",
    "    u = ddp.bellman_operator(v)\n",
    "    if i+1 in iters:\n",
    "        diff = u - v\n",
    "        w = u + ((diff.max() + diff.min()) / 2) * ddp.beta / (1 - ddp.beta)\n",
    "        ax.plot(-w, label='Iteration {0}'.format(i+1))\n",
    "    v = u\n",
    "ax.plot(-results['Policy iteration'].v, label='Fixed Point')\n",
    "\n",
    "ax.ticklabel_format(style='sci', axis='y', scilimits=(0,0))\n",
    "ax.set_ylim(1.0e5, 2.4e5)\n",
    "ax.set_yticks([1.0e5+0.2e5 * i for i in range(8)])\n",
    "ax.set_title(label)\n",
    "ax.set_xlabel('State')\n",
    "ax.set_ylabel(r'Value $\\times\\ (-1)$')\n",
    "plt.legend(loc=(0.7, 0.2))\n",
    "plt.show()"
   ]
  },
  {
   "cell_type": "markdown",
   "metadata": {},
   "source": [
    "### Policy iteration"
   ]
  },
  {
   "cell_type": "code",
   "execution_count": 288,
   "metadata": {
    "collapsed": false
   },
   "outputs": [
    {
     "ename": "LoadError",
     "evalue": "LoadError: syntax: invalid character literal\nwhile loading In[288], in expression starting on line 1",
     "output_type": "error",
     "traceback": [
      "LoadError: syntax: invalid character literal\nwhile loading In[288], in expression starting on line 1",
      ""
     ]
    }
   ],
   "source": [
    "label = 'Policy iteration'\n",
    "iters = [1, 2, 3]\n",
    "v_init = np.zeros(ddp.num_states)\n",
    "\n",
    "fig, ax = plt.subplots(figsize=(8,5))\n",
    "sigma = ddp.compute_greedy(v_init)\n",
    "for i in range(iters[-1]):\n",
    "    # Policy evaluation\n",
    "    v_sigma = ddp.evaluate_policy(sigma)\n",
    "    if i+1 in iters:\n",
    "        ax.plot(-v_sigma, label='Iteration {0}'.format(i+1))\n",
    "    # Policy improvement\n",
    "    new_sigma = ddp.compute_greedy(v_sigma)\n",
    "    sigma = new_sigma\n",
    "ax.plot(-results['Policy iteration'].v, label='Fixed Point')\n",
    "\n",
    "ax.ticklabel_format(style='sci', axis='y', scilimits=(0,0))\n",
    "ax.set_ylim(1e5, 4.2e5)\n",
    "ax.set_yticks([1e5 + 0.4e5 * i for i in range(9)])\n",
    "ax.set_title(label)\n",
    "ax.set_xlabel('State')\n",
    "ax.set_ylabel(r'Value $\\times\\ (-1)$')\n",
    "plt.legend(loc=4)\n",
    "plt.show()"
   ]
  },
  {
   "cell_type": "markdown",
   "metadata": {},
   "source": [
    "### Modified policy iteration"
   ]
  },
  {
   "cell_type": "code",
   "execution_count": 289,
   "metadata": {
    "collapsed": false
   },
   "outputs": [
    {
     "ename": "LoadError",
     "evalue": "LoadError: syntax: invalid character literal\nwhile loading In[289], in expression starting on line 1",
     "output_type": "error",
     "traceback": [
      "LoadError: syntax: invalid character literal\nwhile loading In[289], in expression starting on line 1",
      ""
     ]
    }
   ],
   "source": [
    "label = 'Modified policy iteration'\n",
    "iters = [1, 2, 3, 4]\n",
    "v = np.zeros(ddp.num_states)\n",
    "k = 20 #- 1\n",
    "\n",
    "fig, ax = plt.subplots(figsize=(8,5))\n",
    "for i in range(iters[-1]):\n",
    "    # Policy improvement\n",
    "    sigma = ddp.compute_greedy(v)\n",
    "    u = ddp.bellman_operator(v)\n",
    "    if i == results[label].num_iter-1:\n",
    "        diff = u - v\n",
    "        break\n",
    "    # Partial policy evaluation with k=20 iterations\n",
    "    for j in range(k):\n",
    "        u = ddp.T_sigma(sigma)(u)\n",
    "    v = u\n",
    "    if i+1 in iters:\n",
    "        ax.plot(-v, label='Iteration {0}'.format(i+1))\n",
    "ax.plot(-results['Policy iteration'].v, label='Fixed Point')\n",
    "\n",
    "ax.ticklabel_format(style='sci', axis='y', scilimits=(0,0))\n",
    "ax.set_ylim(0, 2.8e5)\n",
    "ax.set_yticks([0.4e5 * i for i in range(8)])\n",
    "ax.set_title(label)\n",
    "ax.set_xlabel('State')\n",
    "ax.set_ylabel(r'Value $\\times\\ (-1)$')\n",
    "plt.legend(loc=4)\n",
    "plt.show()"
   ]
  },
  {
   "cell_type": "markdown",
   "metadata": {},
   "source": [
    "## Increasing the discount factor"
   ]
  },
  {
   "cell_type": "markdown",
   "metadata": {},
   "source": [
    "Let us consider the case with a discount factor closer to $1$, $\\beta = 0.9999$."
   ]
  },
  {
   "cell_type": "code",
   "execution_count": 290,
   "metadata": {
    "collapsed": false
   },
   "outputs": [
    {
     "data": {
      "text/plain": [
       "0.9999"
      ]
     },
     "execution_count": 290,
     "metadata": {},
     "output_type": "execute_result"
    }
   ],
   "source": [
    "ddp.beta = 0.9999"
   ]
  },
  {
   "cell_type": "code",
   "execution_count": 291,
   "metadata": {
    "collapsed": false
   },
   "outputs": [
    {
     "ename": "LoadError",
     "evalue": "LoadError: UndefVarError: np not defined\nwhile loading In[291], in expression starting on line 1",
     "output_type": "error",
     "traceback": [
      "LoadError: UndefVarError: np not defined\nwhile loading In[291], in expression starting on line 1",
      ""
     ]
    }
   ],
   "source": [
    "v_init = np.zeros(ddp.num_states)\n",
    "epsilon = 1164\n",
    "ddp.max_iter = 10**5 * 2\n",
    "\n",
    "results_9999 = {}\n",
    "\n",
    "for i in range(4):\n",
    "    k = 20 if labels[i] == 'Modified policy iteration' else 0\n",
    "    results_9999[labels[i]] = \\\n",
    "        ddp.solve(method=methods[i], v_init=v_init, epsilon=epsilon, k=k)"
   ]
  },
  {
   "cell_type": "code",
   "execution_count": 292,
   "metadata": {
    "collapsed": false
   },
   "outputs": [
    {
     "ename": "LoadError",
     "evalue": "LoadError: UndefVarError: labels not defined\nwhile loading In[292], in expression starting on line 1",
     "output_type": "error",
     "traceback": [
      "LoadError: UndefVarError: labels not defined\nwhile loading In[292], in expression starting on line 1",
      ""
     ]
    }
   ],
   "source": [
    "df_9999 = pd.DataFrame(index=labels, columns=columns)"
   ]
  },
  {
   "cell_type": "markdown",
   "metadata": {},
   "source": [
    "The numbers of iterations:"
   ]
  },
  {
   "cell_type": "code",
   "execution_count": 293,
   "metadata": {
    "collapsed": false
   },
   "outputs": [
    {
     "ename": "LoadError",
     "evalue": "LoadError: syntax: line break in \":\" expression\nwhile loading In[293], in expression starting on line 2",
     "output_type": "error",
     "traceback": [
      "LoadError: syntax: line break in \":\" expression\nwhile loading In[293], in expression starting on line 2",
      ""
     ]
    }
   ],
   "source": [
    "for label in labels:\n",
    "    print(results_9999[label].num_iter, '\\t' + '(' + label + ')')\n",
    "    df_9999[columns[0]].loc[label] = results_9999[label].num_iter"
   ]
  },
  {
   "cell_type": "markdown",
   "metadata": {},
   "source": [
    "Policy iteration gives the optimal policy:"
   ]
  },
  {
   "cell_type": "code",
   "execution_count": 295,
   "metadata": {
    "collapsed": false
   },
   "outputs": [
    {
     "ename": "LoadError",
     "evalue": "LoadError: syntax: invalid character literal\nwhile loading In[295], in expression starting on line 1",
     "output_type": "error",
     "traceback": [
      "LoadError: syntax: invalid character literal\nwhile loading In[295], in expression starting on line 1",
      ""
     ]
    }
   ],
   "source": [
    "print(results_9999['Policy iteration'].sigma)"
   ]
  },
  {
   "cell_type": "code",
   "execution_count": 296,
   "metadata": {
    "collapsed": false
   },
   "outputs": [
    {
     "ename": "LoadError",
     "evalue": "LoadError: syntax: invalid character literal\nwhile loading In[296], in expression starting on line 1",
     "output_type": "error",
     "traceback": [
      "LoadError: syntax: invalid character literal\nwhile loading In[296], in expression starting on line 1",
      ""
     ]
    }
   ],
   "source": [
    "(1-results_9999['Policy iteration'].sigma).sum()"
   ]
  },
  {
   "cell_type": "markdown",
   "metadata": {},
   "source": [
    "Check that the other methods gave the correct answer:"
   ]
  },
  {
   "cell_type": "code",
   "execution_count": 297,
   "metadata": {
    "collapsed": false
   },
   "outputs": [
    {
     "ename": "LoadError",
     "evalue": "LoadError: syntax: line break in \":\" expression\nwhile loading In[297], in expression starting on line 2",
     "output_type": "error",
     "traceback": [
      "LoadError: syntax: line break in \":\" expression\nwhile loading In[297], in expression starting on line 2",
      ""
     ]
    }
   ],
   "source": [
    "for result in results_9999.values():\n",
    "    if result != results_9999['Policy iteration']:\n",
    "        print(np.array_equal(result.sigma, results_9999['Policy iteration'].sigma))"
   ]
  },
  {
   "cell_type": "markdown",
   "metadata": {},
   "source": [
    "$\\lVert v - v_{\\mathrm{pi}}\\rVert$:"
   ]
  },
  {
   "cell_type": "code",
   "execution_count": 299,
   "metadata": {
    "collapsed": false
   },
   "outputs": [
    {
     "ename": "LoadError",
     "evalue": "LoadError: syntax: line break in \":\" expression\nwhile loading In[299], in expression starting on line 2",
     "output_type": "error",
     "traceback": [
      "LoadError: syntax: line break in \":\" expression\nwhile loading In[299], in expression starting on line 2",
      ""
     ]
    }
   ],
   "source": [
    "for label in labels:\n",
    "    diff_pi = \\\n",
    "        np.abs(results_9999[label].v - results_9999['Policy iteration'].v).max()\n",
    "    print(diff_pi, '\\t' + '(' + label + ')')\n",
    "    df_9999[columns[2]].loc[label] = diff_pi"
   ]
  },
  {
   "cell_type": "markdown",
   "metadata": {},
   "source": [
    "$\\lVert v - T(v)\\rVert$:"
   ]
  },
  {
   "cell_type": "code",
   "execution_count": 300,
   "metadata": {
    "collapsed": false
   },
   "outputs": [
    {
     "ename": "LoadError",
     "evalue": "LoadError: syntax: line break in \":\" expression\nwhile loading In[300], in expression starting on line 2",
     "output_type": "error",
     "traceback": [
      "LoadError: syntax: line break in \":\" expression\nwhile loading In[300], in expression starting on line 2",
      ""
     ]
    }
   ],
   "source": [
    "for label in labels:\n",
    "    v = results_9999[label].v\n",
    "    diff_max = \\\n",
    "        np.abs(v - ddp.bellman_operator(v)).max()\n",
    "    print(diff_max, '\\t' + '(' + label + ')')\n",
    "    df_9999[columns[4]].loc[label] = diff_max"
   ]
  },
  {
   "cell_type": "markdown",
   "metadata": {},
   "source": [
    "$\\overline{b} - \\underline{b}$:"
   ]
  },
  {
   "cell_type": "code",
   "execution_count": 301,
   "metadata": {
    "collapsed": false
   },
   "outputs": [
    {
     "ename": "LoadError",
     "evalue": "LoadError: syntax: line break in \":\" expression\nwhile loading In[301], in expression starting on line 2",
     "output_type": "error",
     "traceback": [
      "LoadError: syntax: line break in \":\" expression\nwhile loading In[301], in expression starting on line 2",
      ""
     ]
    }
   ],
   "source": [
    "for i in range(4):\n",
    "    if labels[i] != 'Policy iteration':\n",
    "        k = 20 if labels[i] == 'Modified policy iteration' else 0\n",
    "        res = ddp.solve(method=methods[i], v_init=v_init, k=k,\n",
    "                        max_iter=results_9999[labels[i]].num_iter-1)\n",
    "        diff = ddp.bellman_operator(res.v) - res.v\n",
    "        diff_span = (diff.max() - diff.min()) * ddp.beta / (1 - ddp.beta)\n",
    "        print(diff_span, '\\t' + '(' + labels[i] + ')')\n",
    "        df_9999[columns[3]].loc[labels[i]] = diff_span"
   ]
  },
  {
   "cell_type": "markdown",
   "metadata": {},
   "source": [
    "For policy iteration:"
   ]
  },
  {
   "cell_type": "code",
   "execution_count": 302,
   "metadata": {
    "collapsed": false
   },
   "outputs": [
    {
     "ename": "LoadError",
     "evalue": "LoadError: syntax: invalid character literal\nwhile loading In[302], in expression starting on line 1",
     "output_type": "error",
     "traceback": [
      "LoadError: syntax: invalid character literal\nwhile loading In[302], in expression starting on line 1",
      ""
     ]
    }
   ],
   "source": [
    "label = 'Policy iteration'\n",
    "v = results_9999[label].v\n",
    "diff = ddp.bellman_operator(v) - v\n",
    "diff_span = (diff.max() - diff.min()) * ddp.beta / (1 - ddp.beta)\n",
    "print(diff_span, '\\t' + '(' + label + ')')\n",
    "df_9999[columns[3]].loc[label] = diff_span"
   ]
  },
  {
   "cell_type": "code",
   "execution_count": 303,
   "metadata": {
    "collapsed": false
   },
   "outputs": [
    {
     "ename": "LoadError",
     "evalue": "LoadError: syntax: line break in \":\" expression\nwhile loading In[303], in expression starting on line 2",
     "output_type": "error",
     "traceback": [
      "LoadError: syntax: line break in \":\" expression\nwhile loading In[303], in expression starting on line 2",
      ""
     ]
    }
   ],
   "source": [
    "for i in range(4):\n",
    "    k = 20 if labels[i] == 'Modified policy iteration' else 0\n",
    "    print(labels[i])\n",
    "    t = %timeit -o ddp.solve(method=methods[i], v_init=v_init, epsilon=epsilon, k=k)\n",
    "    df_9999[columns[1]].loc[labels[i]] = t.best"
   ]
  },
  {
   "cell_type": "code",
   "execution_count": 304,
   "metadata": {
    "collapsed": false
   },
   "outputs": [
    {
     "ename": "LoadError",
     "evalue": "LoadError: UndefVarError: df_9999 not defined\nwhile loading In[304], in expression starting on line 1",
     "output_type": "error",
     "traceback": [
      "LoadError: UndefVarError: df_9999 not defined\nwhile loading In[304], in expression starting on line 1",
      ""
     ]
    }
   ],
   "source": [
    "df_9999"
   ]
  },
  {
   "cell_type": "code",
   "execution_count": 305,
   "metadata": {
    "collapsed": false
   },
   "outputs": [
    {
     "ename": "LoadError",
     "evalue": "LoadError: UndefVarError: labels not defined\nwhile loading In[305], in expression starting on line 1",
     "output_type": "error",
     "traceback": [
      "LoadError: UndefVarError: labels not defined\nwhile loading In[305], in expression starting on line 1",
      ""
     ]
    }
   ],
   "source": [
    "df_time = pd.DataFrame(index=labels)\n",
    "df_time[r'$\\beta = 0.95$'] = df[columns[1]]\n",
    "df_time[r'$\\beta = 0.9999$'] = df_9999[columns[1]]\n",
    "second_max = df_time[r'$\\beta = 0.9999$'][1:].max()\n",
    "\n",
    "plt.rcParams['axes.color_cycle'] = ['g', 'b']\n",
    "for xlim in [None, (0, second_max*1.2)]:\n",
    "    ax = df_time.ix[reversed(labels)][df_time.columns[::-1]].plot(\n",
    "        kind='barh', legend='reverse', xlim=xlim, figsize=(8,5)\n",
    "    )\n",
    "    ax.set_xlabel('Time (second)')"
   ]
  },
  {
   "cell_type": "code",
   "execution_count": 306,
   "metadata": {
    "collapsed": false
   },
   "outputs": [
    {
     "ename": "LoadError",
     "evalue": "LoadError: ArgumentError: platform not found in path\nwhile loading In[306], in expression starting on line 1",
     "output_type": "error",
     "traceback": [
      "LoadError: ArgumentError: platform not found in path\nwhile loading In[306], in expression starting on line 1",
      "",
      " in require at loading.jl:249",
      " [inlined code] from /Users/NIGG/.julia/v0.4/Requires/src/require.jl:11",
      " in require at /Users/NIGG/.julia/v0.4/Requires/src/hook.jl:17"
     ]
    }
   ],
   "source": [
    "import platform\n",
    "print(platform.platform())"
   ]
  },
  {
   "cell_type": "code",
   "execution_count": 307,
   "metadata": {
    "collapsed": false
   },
   "outputs": [
    {
     "ename": "LoadError",
     "evalue": "LoadError: ArgumentError: sys not found in path\nwhile loading In[307], in expression starting on line 1",
     "output_type": "error",
     "traceback": [
      "LoadError: ArgumentError: sys not found in path\nwhile loading In[307], in expression starting on line 1",
      "",
      " in require at loading.jl:249",
      " [inlined code] from /Users/NIGG/.julia/v0.4/Requires/src/require.jl:11",
      " in require at /Users/NIGG/.julia/v0.4/Requires/src/hook.jl:17"
     ]
    }
   ],
   "source": [
    "import sys\n",
    "print(sys.version)"
   ]
  },
  {
   "cell_type": "code",
   "execution_count": 308,
   "metadata": {
    "collapsed": false
   },
   "outputs": [
    {
     "ename": "LoadError",
     "evalue": "LoadError: UndefVarError: np not defined\nwhile loading In[308], in expression starting on line 1",
     "output_type": "error",
     "traceback": [
      "LoadError: UndefVarError: np not defined\nwhile loading In[308], in expression starting on line 1",
      ""
     ]
    }
   ],
   "source": [
    "print(np.__version__)"
   ]
  },
  {
   "cell_type": "code",
   "execution_count": null,
   "metadata": {
    "collapsed": true
   },
   "outputs": [],
   "source": []
  }
 ],
 "metadata": {
  "kernelspec": {
   "display_name": "Julia 0.4.6",
   "language": "julia",
   "name": "julia-0.4"
  },
  "language_info": {
   "file_extension": ".jl",
   "mimetype": "application/julia",
   "name": "julia",
   "version": "0.4.6"
  }
 },
 "nbformat": 4,
 "nbformat_minor": 0
}
