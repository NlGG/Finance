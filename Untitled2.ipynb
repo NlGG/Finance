{
 "cells": [
  {
   "cell_type": "code",
   "execution_count": 139,
   "metadata": {
    "collapsed": true
   },
   "outputs": [],
   "source": [
    "def gausian_kernel(self, x_i, x_j, sigma):\n",
    "    k = np.exp(sum((x_i - x_j)**2)/(2*sigma))\n",
    "    return k\n",
    "\n",
    "def Q(self, y, x):\n",
    "    y = np.array(y)\n",
    "    x = np.array(x)\n",
    "    \n",
    "    num = len(y)\n",
    "    \n",
    "    Q = np.matrix([[y[i]*y[j]*self.gausian_kernel(x[i], x[j]) for j in range(num)] for i in range(num)])\n",
    "    \n",
    "    return Q\n",
    "\n",
    "def learning(self, case, y, alpha):\n",
    "    stop = 0.01\n",
    "    mu = 100\n",
    "    \n",
    "    num = len(y)\n",
    "    \n",
    "    i = 0\n",
    "    \n",
    "    while mu > stop:\n",
    "        eta = 10\n",
    "        while 1:\n",
    "            \n",
    "            r_1 = self.Q*alpha + y*b + 1 + s\n",
    "            r_2 = y.T*alpha\n",
    "            r_3 = (C*np.ones(num).T + alpha*np.identity(num))*epsilon\n",
    "            r_4 = alpha*np.identity(num)*s\n",
    "            \n",
    "            mus = mu*np.ones(num).T\n",
    "            \n",
    "            if (-0.05<r_1<0.05) and (-0.05<r_2<0.05) and (mus-0.05<r_3<mus+0.05) and (mus-0.05< r_4<mus+0.05):\n",
    "                break\n",
    "            \n",
    "            l1 = np.array([Q, y.T, np.ones(num), np.ones(num)])\n",
    "            l2 = np.array([y, 0, np.zeros(num), np.zeros(num)])\n",
    "            l3 = np.array([epsilon*np.identity(num), np.zeros(num).T, epsilon*np.identity(num), np.zeros(num)])\n",
    "            l4 = np.array([epsilon*np.identity(num), np.zeros(num).T, epsilon*np.identity(num), np.zeros(num)])\n",
    "            mat = np.matrix([l1, l2, l3, l4])\n",
    "            d = -[r_1.T, r_2.T, (r_3 - mus).T, (alpha - mus)*np.identity(num)].T*np.linalg.inv(mat)\n",
    "            \n",
    "            d = np.array(d)\n",
    "            \n",
    "            alpha = alpha + eta*d[0:len(d)]\n",
    "            b = b + eta*d[len(d+1)]\n",
    "            epsilon = epsilon + eta*d[len(d+2):len(d+2)+len(epsolon)]\n",
    "            s = s + eta*d[len(d+2)+len(epsolon)+len(s):]\n",
    "            \n",
    "            if abs(r_1) < 0.1:\n",
    "                eta = eta - 0.001\n",
    "            elif abs(r_1) < 0.5:\n",
    "                eta = eta - 0.01\n",
    "            elif abs(r_1) < 1:\n",
    "                eta = eta - 0.1\n",
    "            elif abs(r_1) < 1:\n",
    "                eta = eta - 0.2\n",
    "            \n",
    "            i += 1\n",
    "            \n",
    "            if i == 1000:\n",
    "                break\n",
    "            \n",
    "        mu = mu*((1-eta)/(10+eta))**2\n",
    "        \n",
    "    return alpha\n",
    "        \n",
    "def SVM(self, sigma, C):\n",
    "    y = self.make_label()\n",
    "    case_A, case_B, case_C, case_D = self.make_input()\n",
    "    \n",
    "    y_A = y\n",
    "    y_B = y[5:]\n",
    "    y_C = y[5:]\n",
    "    y_D = y[5:]\n",
    "    \n",
    "    alpha_A = np.zeros(ndata - 1)\n",
    "    alpha_B = np.zeros(ndata - 5)\n",
    "    alpha_C = np.zeros(ndata - 5)\n",
    "    alpha_D = np.zeros(ndata - 5)\n",
    "    \n",
    "    alpha_A = self.learning(case_A, y_A, alpha_A)\n",
    "    alpha_B = self.learning(case_B, y_B, alpha_B)\n",
    "    alpha_C = self.learning(case_C, y_C, alpha_C)\n",
    "    alpha_D = self.learning(case_D, y_D, alpha_D)\n",
    "    \n",
    "    return alpha_A, alpha_B, alpha_C, alpha_D \n",
    "    \n",
    "    \n",
    "    "
   ]
  },
  {
   "cell_type": "code",
   "execution_count": 189,
   "metadata": {
    "collapsed": false
   },
   "outputs": [
    {
     "ename": "OSError",
     "evalue": "after 3 tries, Yahoo! did not return a 200 for url 'http://ichart.finance.yahoo.com/table.csv?s=^FTSE&a=0&b=1&c=1990&d=2&e=10&f=2015&g=d&ignore=.csv'",
     "output_type": "error",
     "traceback": [
      "\u001b[0;31m---------------------------------------------------------------------------\u001b[0m",
      "\u001b[0;31mOSError\u001b[0m                                   Traceback (most recent call last)",
      "\u001b[0;32m<ipython-input-189-9ba899ebf3ef>\u001b[0m in \u001b[0;36m<module>\u001b[0;34m()\u001b[0m\n\u001b[1;32m      5\u001b[0m \u001b[0mend\u001b[0m \u001b[0;34m=\u001b[0m \u001b[0mdt\u001b[0m\u001b[0;34m.\u001b[0m\u001b[0mdatetime\u001b[0m\u001b[0;34m(\u001b[0m\u001b[0;36m2015\u001b[0m\u001b[0;34m,\u001b[0m \u001b[0;36m3\u001b[0m\u001b[0;34m,\u001b[0m \u001b[0;36m10\u001b[0m\u001b[0;34m)\u001b[0m\u001b[0;34m\u001b[0m\u001b[0m\n\u001b[1;32m      6\u001b[0m \u001b[0;34m\u001b[0m\u001b[0m\n\u001b[0;32m----> 7\u001b[0;31m \u001b[0mdata\u001b[0m \u001b[0;34m=\u001b[0m \u001b[0mweb\u001b[0m\u001b[0;34m.\u001b[0m\u001b[0mget_data_yahoo\u001b[0m\u001b[0;34m(\u001b[0m\u001b[0;34m'^FTSE'\u001b[0m\u001b[0;34m,\u001b[0m \u001b[0mstart\u001b[0m\u001b[0;34m=\u001b[0m\u001b[0mst\u001b[0m\u001b[0;34m,\u001b[0m \u001b[0mend\u001b[0m\u001b[0;34m=\u001b[0m\u001b[0mend\u001b[0m\u001b[0;34m)\u001b[0m\u001b[0;34m\u001b[0m\u001b[0m\n\u001b[0m\u001b[1;32m      8\u001b[0m \u001b[0;34m\u001b[0m\u001b[0m\n\u001b[1;32m      9\u001b[0m \u001b[0;32mimport\u001b[0m \u001b[0mtypes\u001b[0m\u001b[0;34m\u001b[0m\u001b[0m\n",
      "\u001b[0;32m/Users/NIGG/anaconda/lib/python3.5/site-packages/pandas/io/data.py\u001b[0m in \u001b[0;36mget_data_yahoo\u001b[0;34m(symbols, start, end, retry_count, pause, adjust_price, ret_index, chunksize, interval)\u001b[0m\n\u001b[1;32m    436\u001b[0m         \u001b[0;32mraise\u001b[0m \u001b[0mValueError\u001b[0m\u001b[0;34m(\u001b[0m\u001b[0;34m\"Invalid interval: valid values are 'd', 'w', 'm' and 'v'\"\u001b[0m\u001b[0;34m)\u001b[0m\u001b[0;34m\u001b[0m\u001b[0m\n\u001b[1;32m    437\u001b[0m     return _get_data_from(symbols, start, end, interval, retry_count, pause,\n\u001b[0;32m--> 438\u001b[0;31m                           adjust_price, ret_index, chunksize, 'yahoo')\n\u001b[0m\u001b[1;32m    439\u001b[0m \u001b[0;34m\u001b[0m\u001b[0m\n\u001b[1;32m    440\u001b[0m \u001b[0;34m\u001b[0m\u001b[0m\n",
      "\u001b[0;32m/Users/NIGG/anaconda/lib/python3.5/site-packages/pandas/io/data.py\u001b[0m in \u001b[0;36m_get_data_from\u001b[0;34m(symbols, start, end, interval, retry_count, pause, adjust_price, ret_index, chunksize, source)\u001b[0m\n\u001b[1;32m    377\u001b[0m     \u001b[0;31m# If a single symbol, (e.g., 'GOOG')\u001b[0m\u001b[0;34m\u001b[0m\u001b[0;34m\u001b[0m\u001b[0m\n\u001b[1;32m    378\u001b[0m     \u001b[0;32mif\u001b[0m \u001b[0misinstance\u001b[0m\u001b[0;34m(\u001b[0m\u001b[0msymbols\u001b[0m\u001b[0;34m,\u001b[0m \u001b[0;34m(\u001b[0m\u001b[0mcompat\u001b[0m\u001b[0;34m.\u001b[0m\u001b[0mstring_types\u001b[0m\u001b[0;34m,\u001b[0m \u001b[0mint\u001b[0m\u001b[0;34m)\u001b[0m\u001b[0;34m)\u001b[0m\u001b[0;34m:\u001b[0m\u001b[0;34m\u001b[0m\u001b[0m\n\u001b[0;32m--> 379\u001b[0;31m         \u001b[0mhist_data\u001b[0m \u001b[0;34m=\u001b[0m \u001b[0msrc_fn\u001b[0m\u001b[0;34m(\u001b[0m\u001b[0msymbols\u001b[0m\u001b[0;34m,\u001b[0m \u001b[0mstart\u001b[0m\u001b[0;34m,\u001b[0m \u001b[0mend\u001b[0m\u001b[0;34m,\u001b[0m \u001b[0minterval\u001b[0m\u001b[0;34m,\u001b[0m \u001b[0mretry_count\u001b[0m\u001b[0;34m,\u001b[0m \u001b[0mpause\u001b[0m\u001b[0;34m)\u001b[0m\u001b[0;34m\u001b[0m\u001b[0m\n\u001b[0m\u001b[1;32m    380\u001b[0m     \u001b[0;31m# Or multiple symbols, (e.g., ['GOOG', 'AAPL', 'MSFT'])\u001b[0m\u001b[0;34m\u001b[0m\u001b[0;34m\u001b[0m\u001b[0m\n\u001b[1;32m    381\u001b[0m     \u001b[0;32melif\u001b[0m \u001b[0misinstance\u001b[0m\u001b[0;34m(\u001b[0m\u001b[0msymbols\u001b[0m\u001b[0;34m,\u001b[0m \u001b[0mDataFrame\u001b[0m\u001b[0;34m)\u001b[0m\u001b[0;34m:\u001b[0m\u001b[0;34m\u001b[0m\u001b[0m\n",
      "\u001b[0;32m/Users/NIGG/anaconda/lib/python3.5/site-packages/pandas/io/data.py\u001b[0m in \u001b[0;36m_get_hist_yahoo\u001b[0;34m(sym, start, end, interval, retry_count, pause)\u001b[0m\n\u001b[1;32m    220\u001b[0m            \u001b[0;34m'&g=%s'\u001b[0m \u001b[0;34m%\u001b[0m \u001b[0minterval\u001b[0m \u001b[0;34m+\u001b[0m\u001b[0;34m\u001b[0m\u001b[0m\n\u001b[1;32m    221\u001b[0m            '&ignore=.csv')\n\u001b[0;32m--> 222\u001b[0;31m     \u001b[0;32mreturn\u001b[0m \u001b[0m_retry_read_url\u001b[0m\u001b[0;34m(\u001b[0m\u001b[0murl\u001b[0m\u001b[0;34m,\u001b[0m \u001b[0mretry_count\u001b[0m\u001b[0;34m,\u001b[0m \u001b[0mpause\u001b[0m\u001b[0;34m,\u001b[0m \u001b[0;34m'Yahoo!'\u001b[0m\u001b[0;34m)\u001b[0m\u001b[0;34m\u001b[0m\u001b[0m\n\u001b[0m\u001b[1;32m    223\u001b[0m \u001b[0;34m\u001b[0m\u001b[0m\n\u001b[1;32m    224\u001b[0m \u001b[0;34m\u001b[0m\u001b[0m\n",
      "\u001b[0;32m/Users/NIGG/anaconda/lib/python3.5/site-packages/pandas/io/data.py\u001b[0m in \u001b[0;36m_retry_read_url\u001b[0;34m(url, retry_count, pause, name)\u001b[0m\n\u001b[1;32m    197\u001b[0m \u001b[0;34m\u001b[0m\u001b[0m\n\u001b[1;32m    198\u001b[0m     raise IOError(\"after %d tries, %s did not \"\n\u001b[0;32m--> 199\u001b[0;31m                   \"return a 200 for url %r\" % (retry_count, name, url))\n\u001b[0m\u001b[1;32m    200\u001b[0m \u001b[0;34m\u001b[0m\u001b[0m\n\u001b[1;32m    201\u001b[0m \u001b[0;34m\u001b[0m\u001b[0m\n",
      "\u001b[0;31mOSError\u001b[0m: after 3 tries, Yahoo! did not return a 200 for url 'http://ichart.finance.yahoo.com/table.csv?s=^FTSE&a=0&b=1&c=1990&d=2&e=10&f=2015&g=d&ignore=.csv'"
     ]
    }
   ],
   "source": [
    "import datetime as dt\n",
    "import pandas.io.data as web\n",
    "\n",
    "st = dt.datetime(1990, 1, 1)\n",
    "end = dt.datetime(2015, 3, 10)\n",
    "\n",
    "data = web.get_data_yahoo('^FTSE', start=st, end=end)\n",
    "\n",
    "import types\n",
    "print(type(data))"
   ]
  },
  {
   "cell_type": "code",
   "execution_count": 117,
   "metadata": {
    "collapsed": false
   },
   "outputs": [],
   "source": [
    "def grid_search():\n",
    "    lnsigma = np.array(range(-10, 11))\n",
    "    lnC = np.array(range(-10, 11))\n",
    "    \n",
    "    for s, c in lnsigma, lnC: \n",
    "        print(s)"
   ]
  },
  {
   "cell_type": "code",
   "execution_count": 138,
   "metadata": {
    "collapsed": false
   },
   "outputs": [
    {
     "data": {
      "text/plain": [
       "2.3393031750789324"
      ]
     },
     "execution_count": 138,
     "metadata": {},
     "output_type": "execute_result"
    }
   ],
   "source": [
    "np.random.uniform(-1, 5)"
   ]
  },
  {
   "cell_type": "code",
   "execution_count": 161,
   "metadata": {
    "collapsed": false
   },
   "outputs": [],
   "source": [
    "a = np.array([1, 2, 10, 3])\n",
    "b = np.array([[1, 2], [3, 2]])"
   ]
  },
  {
   "cell_type": "code",
   "execution_count": 190,
   "metadata": {
    "collapsed": false
   },
   "outputs": [
    {
     "data": {
      "text/plain": [
       "array([ 1,  2,  3, 10])"
      ]
     },
     "execution_count": 190,
     "metadata": {},
     "output_type": "execute_result"
    }
   ],
   "source": [
    "np.sort(a)"
   ]
  },
  {
   "cell_type": "code",
   "execution_count": 167,
   "metadata": {
    "collapsed": false
   },
   "outputs": [],
   "source": [
    "import datetime\n",
    "\n",
    "class Rate(object):\n",
    "    start_at = datetime.datetime(2015, 10, 1, 10, 0, 0)\n",
    "    bid = float(120.00)\n",
    "    h24 = float(119.40)\n",
    "    base_tick = float(0.01)\n",
    "\n",
    "    @classmethod\n",
    "    def get(cls, currency=None, start_at=None):\n",
    "        return Rate()\n",
    "\n",
    "    def get_rate(self, tick, is_add):\n",
    "        if is_add:\n",
    "            return self.bid + float(tick * self.base_tick)\n",
    "        else:\n",
    "            return self.bid - float(tick * self.base_tick)"
   ]
  },
  {
   "cell_type": "code",
   "execution_count": 168,
   "metadata": {
    "collapsed": true
   },
   "outputs": [],
   "source": [
    "rate = Rate.get(currency='USDJPY', start_at=datetime.datetime.now())"
   ]
  },
  {
   "cell_type": "code",
   "execution_count": 171,
   "metadata": {
    "collapsed": false
   },
   "outputs": [],
   "source": [
    "import pandas.io.data as web\n",
    "\n",
    "jpy = web.DataReader('DEXJPUS', 'fred')\n",
    "np.array(jpy.ix[\"2010-01-04\":\"2010-02-04\"]).reshape(1,-1)[0]"
   ]
  },
  {
   "cell_type": "code",
   "execution_count": 188,
   "metadata": {
    "collapsed": false
   },
   "outputs": [
    {
     "data": {
      "text/plain": [
       "array([ 92.55,  91.48,  92.53,  93.31,  92.7 ,  91.9 ,  90.95,  91.38,\n",
       "        91.03,  90.79,    nan,  91.13,  91.23,  90.25,  90.07,  90.12,\n",
       "        89.63,  89.41,  90.08,  90.38,  90.8 ,  90.39,  91.11,  89.11])"
      ]
     },
     "execution_count": 188,
     "metadata": {},
     "output_type": "execute_result"
    }
   ],
   "source": [
    "np.array(jpy.ix[\"2010-01-04\":\"2010-02-04\"]).reshape(1,-1)[0]"
   ]
  },
  {
   "cell_type": "code",
   "execution_count": 95,
   "metadata": {
    "collapsed": false
   },
   "outputs": [
    {
     "ename": "FileNotFoundError",
     "evalue": "[Errno 2] No such file or directory: 'CodeIQ_auth.txt'",
     "output_type": "error",
     "traceback": [
      "\u001b[0;31m---------------------------------------------------------------------------\u001b[0m",
      "\u001b[0;31mFileNotFoundError\u001b[0m                         Traceback (most recent call last)",
      "\u001b[0;32m<ipython-input-95-4b0db6c67211>\u001b[0m in \u001b[0;36m<module>\u001b[0;34m()\u001b[0m\n\u001b[1;32m      4\u001b[0m \u001b[0;34m\u001b[0m\u001b[0m\n\u001b[1;32m      5\u001b[0m \u001b[0;31m# 学習データ\u001b[0m\u001b[0;34m\u001b[0m\u001b[0;34m\u001b[0m\u001b[0m\n\u001b[0;32m----> 6\u001b[0;31m \u001b[0mdata_training_tmp\u001b[0m \u001b[0;34m=\u001b[0m \u001b[0mnp\u001b[0m\u001b[0;34m.\u001b[0m\u001b[0mloadtxt\u001b[0m\u001b[0;34m(\u001b[0m\u001b[0;34m'CodeIQ_auth.txt'\u001b[0m\u001b[0;34m,\u001b[0m \u001b[0mdelimiter\u001b[0m\u001b[0;34m=\u001b[0m\u001b[0;34m' '\u001b[0m\u001b[0;34m)\u001b[0m\u001b[0;34m\u001b[0m\u001b[0m\n\u001b[0m\u001b[1;32m      7\u001b[0m \u001b[0mdata_training\u001b[0m \u001b[0;34m=\u001b[0m \u001b[0;34m[\u001b[0m\u001b[0;34m[\u001b[0m\u001b[0mx\u001b[0m\u001b[0;34m[\u001b[0m\u001b[0;36m0\u001b[0m\u001b[0;34m]\u001b[0m\u001b[0;34m,\u001b[0m \u001b[0mx\u001b[0m\u001b[0;34m[\u001b[0m\u001b[0;36m1\u001b[0m\u001b[0;34m]\u001b[0m\u001b[0;34m]\u001b[0m \u001b[0;32mfor\u001b[0m \u001b[0mx\u001b[0m \u001b[0;32min\u001b[0m \u001b[0mdata_training_tmp\u001b[0m\u001b[0;34m]\u001b[0m\u001b[0;34m\u001b[0m\u001b[0m\n\u001b[1;32m      8\u001b[0m \u001b[0mlabel_training\u001b[0m \u001b[0;34m=\u001b[0m \u001b[0;34m[\u001b[0m\u001b[0mint\u001b[0m\u001b[0;34m(\u001b[0m\u001b[0mx\u001b[0m\u001b[0;34m[\u001b[0m\u001b[0;36m2\u001b[0m\u001b[0;34m]\u001b[0m\u001b[0;34m)\u001b[0m \u001b[0;32mfor\u001b[0m \u001b[0mx\u001b[0m \u001b[0;32min\u001b[0m \u001b[0mdata_training_tmp\u001b[0m\u001b[0;34m]\u001b[0m\u001b[0;34m\u001b[0m\u001b[0m\n",
      "\u001b[0;32m/Users/NIGG/anaconda/lib/python3.5/site-packages/numpy/lib/npyio.py\u001b[0m in \u001b[0;36mloadtxt\u001b[0;34m(fname, dtype, comments, delimiter, converters, skiprows, usecols, unpack, ndmin)\u001b[0m\n\u001b[1;32m    801\u001b[0m                 \u001b[0mfh\u001b[0m \u001b[0;34m=\u001b[0m \u001b[0miter\u001b[0m\u001b[0;34m(\u001b[0m\u001b[0mopen\u001b[0m\u001b[0;34m(\u001b[0m\u001b[0mfname\u001b[0m\u001b[0;34m,\u001b[0m \u001b[0;34m'U'\u001b[0m\u001b[0;34m)\u001b[0m\u001b[0;34m)\u001b[0m\u001b[0;34m\u001b[0m\u001b[0m\n\u001b[1;32m    802\u001b[0m             \u001b[0;32melse\u001b[0m\u001b[0;34m:\u001b[0m\u001b[0;34m\u001b[0m\u001b[0m\n\u001b[0;32m--> 803\u001b[0;31m                 \u001b[0mfh\u001b[0m \u001b[0;34m=\u001b[0m \u001b[0miter\u001b[0m\u001b[0;34m(\u001b[0m\u001b[0mopen\u001b[0m\u001b[0;34m(\u001b[0m\u001b[0mfname\u001b[0m\u001b[0;34m)\u001b[0m\u001b[0;34m)\u001b[0m\u001b[0;34m\u001b[0m\u001b[0m\n\u001b[0m\u001b[1;32m    804\u001b[0m         \u001b[0;32melse\u001b[0m\u001b[0;34m:\u001b[0m\u001b[0;34m\u001b[0m\u001b[0m\n\u001b[1;32m    805\u001b[0m             \u001b[0mfh\u001b[0m \u001b[0;34m=\u001b[0m \u001b[0miter\u001b[0m\u001b[0;34m(\u001b[0m\u001b[0mfname\u001b[0m\u001b[0;34m)\u001b[0m\u001b[0;34m\u001b[0m\u001b[0m\n",
      "\u001b[0;31mFileNotFoundError\u001b[0m: [Errno 2] No such file or directory: 'CodeIQ_auth.txt'"
     ]
    }
   ],
   "source": [
    "# -*- coding: utf-8 -*-\n",
    "from sklearn.svm import LinearSVC\n",
    "import numpy as np\n",
    "\n",
    "# 学習データ\n",
    "data_training = [[x[0], x[1]] for x in data_training_tmp]\n",
    "label_training = [int(x[2]) for x in data_training_tmp]\n",
    "\n",
    "# 試験データ\n",
    "data_test = np.loadtxt('CodeIQ_mycoins.txt', delimiter=' ')\n",
    "\n",
    "# 学習\n",
    "estimator = LinearSVC(C=1.0)\n",
    "estimator.fit(data_training, label_training)\n",
    "\n",
    "# 予測するよー\n",
    "label_prediction = estimator.predict(data_test)\n",
    "\n",
    "print(label_prediction)"
   ]
  },
  {
   "cell_type": "code",
   "execution_count": 1,
   "metadata": {
    "collapsed": true
   },
   "outputs": [],
   "source": [
    "import numpy as np"
   ]
  },
  {
   "cell_type": "code",
   "execution_count": 86,
   "metadata": {
    "collapsed": true
   },
   "outputs": [],
   "source": [
    "o = np.array([1, 2])\n",
    "k = np.array([2, 5])"
   ]
  },
  {
   "cell_type": "code",
   "execution_count": 41,
   "metadata": {
    "collapsed": false
   },
   "outputs": [],
   "source": [
    "l = np.matrix([[o[i]*k[j] for j in range(len(k))] for i in range(len(o))]) "
   ]
  },
  {
   "cell_type": "code",
   "execution_count": 90,
   "metadata": {
    "collapsed": false
   },
   "outputs": [
    {
     "data": {
      "text/plain": [
       "matrix([[ 5., -2.],\n",
       "        [-2.,  1.]])"
      ]
     },
     "execution_count": 90,
     "metadata": {},
     "output_type": "execute_result"
    }
   ],
   "source": [
    "np.linalg.inv(np.matrix([o, k]))"
   ]
  },
  {
   "cell_type": "code",
   "execution_count": 28,
   "metadata": {
    "collapsed": false
   },
   "outputs": [],
   "source": [
    "while 0:\n",
    "    i = 1\n",
    "    br"
   ]
  },
  {
   "cell_type": "code",
   "execution_count": 55,
   "metadata": {
    "collapsed": false
   },
   "outputs": [
    {
     "data": {
      "text/plain": [
       "3.1622776601683795"
      ]
     },
     "execution_count": 55,
     "metadata": {},
     "output_type": "execute_result"
    }
   ],
   "source": [
    "np.linalg.norm(o-k)"
   ]
  },
  {
   "cell_type": "code",
   "execution_count": 58,
   "metadata": {
    "collapsed": false
   },
   "outputs": [
    {
     "data": {
      "text/plain": [
       "23.624342922017807"
      ]
     },
     "execution_count": 58,
     "metadata": {},
     "output_type": "execute_result"
    }
   ],
   "source": [
    "np.exp(np.sqrt(sum((o-k)**2)))"
   ]
  },
  {
   "cell_type": "code",
   "execution_count": 69,
   "metadata": {
    "collapsed": true
   },
   "outputs": [],
   "source": [
    "o = np.array(o)"
   ]
  },
  {
   "cell_type": "code",
   "execution_count": 73,
   "metadata": {
    "collapsed": false
   },
   "outputs": [
    {
     "data": {
      "text/plain": [
       "array([[ 1.,  0.],\n",
       "       [ 0.,  2.]])"
      ]
     },
     "execution_count": 73,
     "metadata": {},
     "output_type": "execute_result"
    }
   ],
   "source": [
    "o.T*np.identity(2) "
   ]
  },
  {
   "cell_type": "code",
   "execution_count": 92,
   "metadata": {
    "collapsed": false
   },
   "outputs": [
    {
     "data": {
      "text/plain": [
       "2"
      ]
     },
     "execution_count": 92,
     "metadata": {},
     "output_type": "execute_result"
    }
   ],
   "source": [
    "abs(2)"
   ]
  },
  {
   "cell_type": "code",
   "execution_count": null,
   "metadata": {
    "collapsed": true
   },
   "outputs": [],
   "source": [
    "    def gausian_kernel(self, x_i, x_j, sigma):\n",
    "        k = np.exp(sum((x_i - x_j)**2)/(2*sigma))\n",
    "        return k\n",
    "\n",
    "    def Q(self, y, x):\n",
    "        y = np.array(y)\n",
    "        x = np.array(x)\n",
    "\n",
    "        num = len(y)\n",
    "\n",
    "        Q = np.matrix([[y[i]*y[j]*self.gausian_kernel(x[i], x[j]) for j in range(num)] for i in range(num)])\n",
    "\n",
    "        return Q\n",
    "\n",
    "    def learning(self, case, y, alpha):\n",
    "        stop = 0.01\n",
    "        mu = 100\n",
    "\n",
    "        num = len(y)\n",
    "\n",
    "        i = 0\n",
    "\n",
    "        while mu > stop:\n",
    "            eta = 10\n",
    "            while 1:\n",
    "\n",
    "                r_1 = self.Q*alpha + y*b + 1 + s\n",
    "                r_2 = y.T*alpha\n",
    "                r_3 = (C*np.ones(num).T + alpha*np.identity(num))*epsilon\n",
    "                r_4 = alpha*np.identity(num)*s\n",
    "\n",
    "                mus = mu*np.ones(num).T\n",
    "\n",
    "                if (-0.05<r_1<0.05) and (-0.05<r_2<0.05) and (mus-0.05<r_3<mus+0.05) and (mus-0.05< r_4<mus+0.05):\n",
    "                    break\n",
    "\n",
    "                l1 = np.array([Q, y.T, np.ones(num), np.ones(num)])\n",
    "                l2 = np.array([y, 0, np.zeros(num), np.zeros(num)])\n",
    "                l3 = np.array([epsilon*np.identity(num), np.zeros(num).T, epsilon*np.identity(num), np.zeros(num)])\n",
    "                l4 = np.array([epsilon*np.identity(num), np.zeros(num).T, epsilon*np.identity(num), np.zeros(num)])\n",
    "                mat = np.matrix([l1, l2, l3, l4])\n",
    "                d = -[r_1.T, r_2.T, (r_3 - mus).T, (alpha - mus)*np.identity(num)].T*np.linalg.inv(mat)\n",
    "\n",
    "                d = np.array(d)\n",
    "\n",
    "                alpha = alpha + eta*d[0:len(d)]\n",
    "                b = b + eta*d[len(d+1)]\n",
    "                epsilon = epsilon + eta*d[len(d+2):len(d+2)+len(epsolon)]\n",
    "                s = s + eta*d[len(d+2)+len(epsolon)+len(s):]\n",
    "\n",
    "                if abs(r_1) < 0.1:\n",
    "                    eta = eta - 0.001\n",
    "                elif abs(r_1) < 0.5:\n",
    "                    eta = eta - 0.01\n",
    "                elif abs(r_1) < 1:\n",
    "                    eta = eta - 0.1\n",
    "                elif abs(r_1) < 1:\n",
    "                    eta = eta - 0.2\n",
    "\n",
    "                i += 1\n",
    "\n",
    "                if i == 1000:\n",
    "                    break\n",
    "\n",
    "            mu = mu*((1-eta)/(10+eta))**2\n",
    "\n",
    "        return alpha\n",
    "\n",
    "    def SVM(self, sigma, C):\n",
    "        y = self.make_label()\n",
    "        case_A, case_B, case_C, case_D = self.make_input()\n",
    "\n",
    "        y_A = y\n",
    "        y_B = y[5:]\n",
    "        y_C = y[5:]\n",
    "        y_D = y[5:]\n",
    "\n",
    "        alpha_A = np.zeros(ndata - 1)\n",
    "        alpha_B = np.zeros(ndata - 5)\n",
    "        alpha_C = np.zeros(ndata - 5)\n",
    "        alpha_D = np.zeros(ndata - 5)\n",
    "\n",
    "        alpha_A = self.learning(case_A, y_A, alpha_A)\n",
    "        alpha_B = self.learning(case_B, y_B, alpha_B)\n",
    "        alpha_C = self.learning(case_C, y_C, alpha_C)\n",
    "        alpha_D = self.learning(case_D, y_D, alpha_D)\n",
    "        \n",
    "        w_A = alpha_A*y_A*case_A\n",
    "        w_B = alpha_B*y_B*case_B\n",
    "        w_C = alpha_C*y_C*case_C\n",
    "        \n",
    "        b_A = np.average([y[i]-sum([alpha_A[j]*y_A[j]*case_A[j]*case_A[i] for j in range(len(y_A))]) for i in range(len(y_A))])\n",
    "        b_B = np.average([y[i]-sum([alpha_B[j]*y_B[j]*case_B[j]*case_B[i] for j in range(len(y_B))]) for i in range(len(y_B))])\n",
    "        b_C = np.average([y[i]-sum([alpha_C[j]*y_C[j]*case_C[j]*case_C[i] for j in range(len(y_C))]) for i in range(len(y_C))])\n",
    "        b_D = np.average([y[i]-sum([alpha_D[j]*y_D[j]*case_D[j]*case_D[i] for j in range(len(y_D))]) for i in range(len(y_D))])\n",
    "\n",
    "        return alpha_A, alpha_B, alpha_C, alpha_D, y_A, y_B, y_C, y_D"
   ]
  }
 ],
 "metadata": {
  "kernelspec": {
   "display_name": "Python 3",
   "language": "python",
   "name": "python3"
  },
  "language_info": {
   "codemirror_mode": {
    "name": "ipython",
    "version": 3
   },
   "file_extension": ".py",
   "mimetype": "text/x-python",
   "name": "python",
   "nbconvert_exporter": "python",
   "pygments_lexer": "ipython3",
   "version": "3.5.1"
  }
 },
 "nbformat": 4,
 "nbformat_minor": 0
}
