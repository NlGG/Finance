{
 "cells": [
  {
   "cell_type": "code",
   "execution_count": 1,
   "metadata": {
    "collapsed": false
   },
   "outputs": [],
   "source": [
    "%matplotlib inline"
   ]
  },
  {
   "cell_type": "code",
   "execution_count": 2,
   "metadata": {
    "collapsed": false,
    "scrolled": true
   },
   "outputs": [],
   "source": [
    "import numpy as np\n",
    "import pandas as pd\n",
    "\n",
    "#　統計用ツール\n",
    "import statsmodels.api as sm\n",
    "import statsmodels.tsa.api as tsa\n",
    "from patsy import dmatrices\n",
    "\n",
    "#描画\n",
    "import matplotlib.pyplot as plt\n",
    "from pandas.tools.plotting import autocorrelation_plot\n",
    "\n",
    "#株価\n",
    "import pandas as pd\n",
    "import pandas_datareader.data as web\n",
    "import datetime\n",
    "\n",
    "#深層学習\n",
    "import chainer\n",
    "from chainer import cuda, Function, gradient_check, Variable, optimizers, serializers, utils\n",
    "from chainer import Link, Chain, ChainList\n",
    "import chainer.functions as F\n",
    "import chainer.links as L\n",
    "\n",
    "#k平均法\n",
    "from sklearn.cluster import KMeans"
   ]
  },
  {
   "cell_type": "code",
   "execution_count": 4,
   "metadata": {
    "collapsed": false
   },
   "outputs": [],
   "source": [
    "s = (1990, 1, 1)\n",
    "e = (2015, 9, 30)\n",
    "t = 'Adj Close'\n",
    "start = datetime.datetime(s[0], s[1], s[2])\n",
    "end = datetime.datetime(e[0], e[1], e[2])\n",
    "SaP = web.DataReader('GSPC', 'yahoo', start, end)[t]\n",
    "N225 = web.DataReader('^N225', 'yahoo', start, end)[t]\n",
    "DJI = web.DataReader('^DJI', 'yahoo', start, end)[t]\n",
    "IXIC = web.DataReader('^IXIC', 'yahoo', start, end)[t]"
   ]
  },
  {
   "cell_type": "code",
   "execution_count": 5,
   "metadata": {
    "collapsed": false
   },
   "outputs": [],
   "source": [
    "SaP = np.array([SaP[1:].values - SaP[:-1].values]).T*100"
   ]
  },
  {
   "cell_type": "code",
   "execution_count": 6,
   "metadata": {
    "collapsed": false
   },
   "outputs": [],
   "source": [
    "def fuzzy(SaP):\n",
    "    kms = KMeans(n_clusters=3).fit_predict(SaP)\n",
    "\n",
    "    mean1 = SaP[kms == 0].mean()\n",
    "    var1 = SaP[kms == 0].var()\n",
    "    mean2 = SaP[kms == 1].mean()\n",
    "    var2 = SaP[kms == 1].var()\n",
    "    mean3 = SaP[kms == 2].mean()\n",
    "    var3 = SaP[kms == 2].var()\n",
    "\n",
    "    for t in range(100):\n",
    "        f = SaP[t:t+20]\n",
    "\n",
    "        v = np.array([])\n",
    "        for i in range(20):\n",
    "            v1 = np.round(np.exp(-1*(f[i] - mean1)**2/var1), 5)\n",
    "            v2 = np.round(np.exp(-1*(f[i] - mean2)**2/var2), 5)\n",
    "            v3 = np.round(np.exp(-1*(f[i] - mean3)**2/var3), 5)\n",
    "            v = np.append(v, v1)\n",
    "            v = np.append(v, v2)\n",
    "            v = np.append(v, v3)\n",
    "\n",
    "        if t != 0:\n",
    "            fs = np.c_[fs, v]\n",
    "        else:\n",
    "            fs = np.array([v]).T\n",
    "    return fs"
   ]
  },
  {
   "cell_type": "code",
   "execution_count": 87,
   "metadata": {
    "collapsed": false
   },
   "outputs": [],
   "source": [
    "class DRNN(object):\n",
    "    def __init__(self, data):\n",
    "        self.data = data\n",
    "        self.model = DeepLearning()\n",
    "        self.optimizer = optimizers.Adam()\n",
    "        self.optimizer.setup(self.model)\n",
    "        \n",
    "    def fuzzy(self):\n",
    "        self.fs = fuzzy(self.data).T\n",
    "        \n",
    "    def autoencorder(self, num):\n",
    "        ft = np.array(self.fs, dtype='float32')\n",
    "        \n",
    "        n, m = ft.shape\n",
    "        bs = 5\n",
    "        \n",
    "        for j in range(num):\n",
    "            sffindx = np.random.permutation(n)\n",
    "            for i in range(0, n, bs):\n",
    "                self.ib = i+bs\n",
    "                x = Variable(ft[sffindx[i:(i+bs) if (i+bs) < n else n]])\n",
    "                self.model.zerograds()\n",
    "                loss = self.model.ae(x)\n",
    "                loss.backward()\n",
    "                self.optimizer.update()\n",
    "            if j % 1000 == 0:\n",
    "                print('epoch:', j)\n",
    "                print('train mean loss={}'.format(loss.data))\n",
    "                print(' - - - - - - - - - ')\n",
    "            \n",
    "    def reinforcement(self, n):\n",
    "        for i in range(n):\n",
    "            self.optimizer = optimizers.Adam()\n",
    "            self.optimizer.setup(self.model)\n",
    "            for t in range(100):\n",
    "                loss = self.model.rnn(self.fs, t)\n",
    "                loss.backward()\n",
    "                self.optimizer.update()\n",
    "            print('epoch:', i)\n",
    "            print('profit={}'.format(-loss.data[0][0]))\n",
    "            print(' - - - - - - - - - ')\n",
    "        \n",
    "    def initialization(self, n=3000, m=100):\n",
    "        self.fuzzy()\n",
    "        self.autoencorder(n)\n",
    "        self.reinforcement(m)\n",
    "        \n",
    "    def learning(self, maxc=10):\n",
    "        c = 0\n",
    "        while c < maxc:\n",
    "            for t in range(100):\n",
    "                loss = self.model(self.fs, t)\n",
    "                loss.backward()\n",
    "                self.optimizer.update()\n",
    "                print('epoch:', c)\n",
    "                print('time:', t)\n",
    "                print('profit={}'.format(-loss.data[0][0]))\n",
    "                print(' - - - - - - - - - ')\n",
    "                c += 1\n",
    "            \n",
    "    def strategy():\n",
    "        self.model.delta(self.fs)"
   ]
  },
  {
   "cell_type": "code",
   "execution_count": 88,
   "metadata": {
    "collapsed": false
   },
   "outputs": [],
   "source": [
    "class DeepLearning(chainer.Chain):\n",
    "    def __init__(self):\n",
    "        super(DeepLearning, self).__init__(\n",
    "            w = L.Linear(20, 1),\n",
    "            b = L.Linear(1, 1),\n",
    "            u = L.Linear(1, 1),\n",
    "            l1 = L.Linear(60, 60),\n",
    "            l2 = L.Linear(60, 60),\n",
    "            l3 = L.Linear(60, 60),\n",
    "            l4 = L.Linear(60, 20),\n",
    "            l5 = L.Linear(20, 60),\n",
    "            m1 = L.Linear(1, 60),\n",
    "            m2 = L.Linear(1, 60),\n",
    "            m3 = L.Linear(1, 60),\n",
    "            m4 = L.Linear(1, 20),\n",
    "        )\n",
    "    \n",
    "    def ae(self, x):\n",
    "        bv, fv = self.ae_fwd(x)\n",
    "        loss = F.mean_squared_error(bv, x)\n",
    "        return loss\n",
    "    \n",
    "    def ae_fwd(self, x):\n",
    "        h1 = F.sigmoid(self.l1(x))\n",
    "        h2 = F.sigmoid(self.l2(h1))\n",
    "        h3 = F.sigmoid(self.l3(h2))\n",
    "        fv = F.sigmoid(self.l4(h3))\n",
    "        bv = self.l5(fv)\n",
    "        return bv, fv\n",
    "    \n",
    "    def rnn(self, fs, t, c=1):\n",
    "        fs = np.array(fs, dtype='float32')\n",
    "        bv, Fs = self.ae_fwd(Variable(fs))        \n",
    "        Fs = Fs.data\n",
    "        \n",
    "        d_1 = Variable(np.zeros((1, 1), dtype=np.float32))\n",
    "        old_grad = np.array([np.zeros(21)], dtype='float32')\n",
    "        one = Variable(np.array([[1]], dtype=np.float32))\n",
    "        zero = Variable(np.array([[0]], dtype=np.float32))\n",
    "\n",
    "        loss = 0\n",
    "        for i in range(len(Fs[:, 0])):\n",
    "            x_k = Variable(np.array([Fs[i]], dtype=np.float32))\n",
    "            d = F.tanh(self.w(x_k) + self.b(one) + self.u(d_1))\n",
    "            z = Variable(np.array([[Fs[i][-1]]], dtype=np.float32))\n",
    "            R = d_1.__rmatmul__(z) - c*(d - d_1).__abs__()\n",
    "            loss += R\n",
    "            d_1 = d\n",
    "        return -loss\n",
    "    \n",
    "    def delta(self, Fs):\n",
    "        one = Variable(np.array([[1]], dtype=np.float32))\n",
    "\n",
    "        d_1 = Variable(np.zeros((1, 1), dtype=np.float32))\n",
    "        d = np.zeros(100)\n",
    "        d[0] = 1\n",
    "        for i in range(1, len(Fs[:, 0])):\n",
    "            Ft = Variable(np.array([Fs[i]], dtype=np.float32))\n",
    "            ds = F.tanh(self.w(Ft) + self.b(one) + self.u(d_1))\n",
    "            d[i] = ds.data[0]\n",
    "        return d\n",
    "        \n",
    "    def __call__(self, fs, t, c=1):\n",
    "        fs = np.array(fs, dtype='float32')\n",
    "        bv, Fs = self.ae_fwd(Variable(fs))\n",
    "        Fs_Var = Fs\n",
    "        \n",
    "        d_1 = Variable(np.zeros((1, 1), dtype=np.float32))\n",
    "        old_grad = np.array([np.zeros(21)], dtype='float32')\n",
    "        one = Variable(np.array([[1]], dtype=np.float32))\n",
    "        zero = Variable(np.array([[0]], dtype=np.float32))\n",
    "        loss = 0\n",
    "        \n",
    "        Fs = Fs.data\n",
    "        for i in range(len(Fs[:, 0])):\n",
    "            d = self.delta(Fs_Var.data).data\n",
    "            if i == t:\n",
    "                ft = Variable(np.array([fs[t]], dtype=np.float32))\n",
    "                d = Variable(np.array([[d[t]]], dtype=np.float32))\n",
    "                h1 = F.sigmoid(self.l1(ft) + self.m1(d)) \n",
    "                h2 = F.sigmoid(self.l2(h1) + self.m2(d))\n",
    "                h3 = F.sigmoid(self.l3(h2) + self.m3(d))\n",
    "                Ft = F.sigmoid(self.l4(h3) + self.m4(d)) \n",
    "                d = F.tanh(self.w(Ft) + self.b(one) + self.u(d_1))\n",
    "                z = Variable(np.array([[Fs[i][-1]]], dtype=np.float32))\n",
    "                R = d_1.__rmatmul__(z) - c*(d - d_1).__abs__()\n",
    "                loss += R\n",
    "                d_1 = d\n",
    "            else:\n",
    "                Ft = Variable(np.array([Fs[i]], dtype=np.float32))\n",
    "                d = F.tanh(self.w(Ft) + self.b(one) + self.u(d_1))\n",
    "                z = Variable(np.array([[Fs[i][-1]]], dtype=np.float32))\n",
    "                R = d_1.__rmatmul__(z) - c*(d - d_1).__abs__()\n",
    "                loss += R\n",
    "                d_1 = d\n",
    "        return -loss"
   ]
  },
  {
   "cell_type": "code",
   "execution_count": null,
   "metadata": {
    "collapsed": false
   },
   "outputs": [
    {
     "name": "stdout",
     "output_type": "stream",
     "text": [
      "epoch: 0\n",
      "train mean loss=0.3027679920196533\n",
      " - - - - - - - - - \n",
      "epoch: 1000\n",
      "train mean loss=0.004798433743417263\n",
      " - - - - - - - - - \n"
     ]
    }
   ],
   "source": [
    "drnn = DRNN(SaP)\n",
    "drnn.initialization() "
   ]
  },
  {
   "cell_type": "code",
   "execution_count": 72,
   "metadata": {
    "collapsed": false
   },
   "outputs": [
    {
     "name": "stdout",
     "output_type": "stream",
     "text": [
      "epoch: 0\n",
      "time: 0\n",
      "profit=97.99994659423828\n",
      " - - - - - - - - - \n",
      "epoch: 1\n",
      "time: 1\n",
      "profit=97.9999771118164\n",
      " - - - - - - - - - \n",
      "epoch: 2\n",
      "time: 2\n",
      "profit=97.9999771118164\n",
      " - - - - - - - - - \n",
      "epoch: 3\n",
      "time: 3\n",
      "profit=97.99996185302734\n",
      " - - - - - - - - - \n",
      "epoch: 4\n",
      "time: 4\n",
      "profit=97.9999771118164\n",
      " - - - - - - - - - \n",
      "epoch: 5\n",
      "time: 5\n",
      "profit=97.9999771118164\n",
      " - - - - - - - - - \n",
      "epoch: 6\n",
      "time: 6\n",
      "profit=97.9999771118164\n",
      " - - - - - - - - - \n",
      "epoch: 7\n",
      "time: 7\n",
      "profit=97.9999771118164\n",
      " - - - - - - - - - \n",
      "epoch: 8\n",
      "time: 8\n",
      "profit=97.9999771118164\n",
      " - - - - - - - - - \n",
      "epoch: 9\n",
      "time: 9\n",
      "profit=97.99998474121094\n",
      " - - - - - - - - - \n",
      "epoch: 10\n",
      "time: 10\n",
      "profit=97.99998474121094\n",
      " - - - - - - - - - \n"
     ]
    },
    {
     "ename": "KeyboardInterrupt",
     "evalue": "",
     "output_type": "error",
     "traceback": [
      "\u001b[0;31m---------------------------------------------------------------------------\u001b[0m",
      "\u001b[0;31mKeyboardInterrupt\u001b[0m                         Traceback (most recent call last)",
      "\u001b[0;32m<ipython-input-72-e9875fbd549d>\u001b[0m in \u001b[0;36m<module>\u001b[0;34m()\u001b[0m\n\u001b[0;32m----> 1\u001b[0;31m \u001b[0mdrnn\u001b[0m\u001b[0;34m.\u001b[0m\u001b[0mlearning\u001b[0m\u001b[0;34m(\u001b[0m\u001b[0;34m)\u001b[0m\u001b[0;34m\u001b[0m\u001b[0m\n\u001b[0m",
      "\u001b[0;32m<ipython-input-56-0da8f88849e3>\u001b[0m in \u001b[0;36mlearning\u001b[0;34m(self, maxc)\u001b[0m\n\u001b[1;32m     50\u001b[0m         \u001b[0;32mwhile\u001b[0m \u001b[0mc\u001b[0m \u001b[0;34m<\u001b[0m \u001b[0mmaxc\u001b[0m\u001b[0;34m:\u001b[0m\u001b[0;34m\u001b[0m\u001b[0m\n\u001b[1;32m     51\u001b[0m             \u001b[0;32mfor\u001b[0m \u001b[0mt\u001b[0m \u001b[0;32min\u001b[0m \u001b[0mrange\u001b[0m\u001b[0;34m(\u001b[0m\u001b[0;36m100\u001b[0m\u001b[0;34m)\u001b[0m\u001b[0;34m:\u001b[0m\u001b[0;34m\u001b[0m\u001b[0m\n\u001b[0;32m---> 52\u001b[0;31m                 \u001b[0mloss\u001b[0m \u001b[0;34m=\u001b[0m \u001b[0mself\u001b[0m\u001b[0;34m.\u001b[0m\u001b[0mmodel\u001b[0m\u001b[0;34m(\u001b[0m\u001b[0mself\u001b[0m\u001b[0;34m.\u001b[0m\u001b[0mfs\u001b[0m\u001b[0;34m,\u001b[0m \u001b[0mt\u001b[0m\u001b[0;34m)\u001b[0m\u001b[0;34m\u001b[0m\u001b[0m\n\u001b[0m\u001b[1;32m     53\u001b[0m                 \u001b[0mloss\u001b[0m\u001b[0;34m.\u001b[0m\u001b[0mbackward\u001b[0m\u001b[0;34m(\u001b[0m\u001b[0;34m)\u001b[0m\u001b[0;34m\u001b[0m\u001b[0m\n\u001b[1;32m     54\u001b[0m                 \u001b[0mself\u001b[0m\u001b[0;34m.\u001b[0m\u001b[0moptimizer\u001b[0m\u001b[0;34m.\u001b[0m\u001b[0mupdate\u001b[0m\u001b[0;34m(\u001b[0m\u001b[0;34m)\u001b[0m\u001b[0;34m\u001b[0m\u001b[0m\n",
      "\u001b[0;32m<ipython-input-57-0cf256ccf3c5>\u001b[0m in \u001b[0;36m__call__\u001b[0;34m(self, fs, t, c)\u001b[0m\n\u001b[1;32m     74\u001b[0m         \u001b[0mFs\u001b[0m \u001b[0;34m=\u001b[0m \u001b[0mFs\u001b[0m\u001b[0;34m.\u001b[0m\u001b[0mdata\u001b[0m\u001b[0;34m\u001b[0m\u001b[0m\n\u001b[1;32m     75\u001b[0m         \u001b[0;32mfor\u001b[0m \u001b[0mi\u001b[0m \u001b[0;32min\u001b[0m \u001b[0mrange\u001b[0m\u001b[0;34m(\u001b[0m\u001b[0mlen\u001b[0m\u001b[0;34m(\u001b[0m\u001b[0mFs\u001b[0m\u001b[0;34m[\u001b[0m\u001b[0;34m:\u001b[0m\u001b[0;34m,\u001b[0m \u001b[0;36m0\u001b[0m\u001b[0;34m]\u001b[0m\u001b[0;34m)\u001b[0m\u001b[0;34m)\u001b[0m\u001b[0;34m:\u001b[0m\u001b[0;34m\u001b[0m\u001b[0m\n\u001b[0;32m---> 76\u001b[0;31m             \u001b[0md\u001b[0m \u001b[0;34m=\u001b[0m \u001b[0mself\u001b[0m\u001b[0;34m.\u001b[0m\u001b[0mdelta\u001b[0m\u001b[0;34m(\u001b[0m\u001b[0mFs_Var\u001b[0m\u001b[0;34m.\u001b[0m\u001b[0mdata\u001b[0m\u001b[0;34m)\u001b[0m\u001b[0;34m.\u001b[0m\u001b[0mdata\u001b[0m\u001b[0;34m\u001b[0m\u001b[0m\n\u001b[0m\u001b[1;32m     77\u001b[0m             \u001b[0;32mif\u001b[0m \u001b[0mi\u001b[0m \u001b[0;34m==\u001b[0m \u001b[0mt\u001b[0m\u001b[0;34m:\u001b[0m\u001b[0;34m\u001b[0m\u001b[0m\n\u001b[1;32m     78\u001b[0m                 \u001b[0mft\u001b[0m \u001b[0;34m=\u001b[0m \u001b[0mVariable\u001b[0m\u001b[0;34m(\u001b[0m\u001b[0mnp\u001b[0m\u001b[0;34m.\u001b[0m\u001b[0marray\u001b[0m\u001b[0;34m(\u001b[0m\u001b[0;34m[\u001b[0m\u001b[0mfs\u001b[0m\u001b[0;34m[\u001b[0m\u001b[0mt\u001b[0m\u001b[0;34m]\u001b[0m\u001b[0;34m]\u001b[0m\u001b[0;34m,\u001b[0m \u001b[0mdtype\u001b[0m\u001b[0;34m=\u001b[0m\u001b[0mnp\u001b[0m\u001b[0;34m.\u001b[0m\u001b[0mfloat32\u001b[0m\u001b[0;34m)\u001b[0m\u001b[0;34m)\u001b[0m\u001b[0;34m\u001b[0m\u001b[0m\n",
      "\u001b[0;32m<ipython-input-57-0cf256ccf3c5>\u001b[0m in \u001b[0;36mdelta\u001b[0;34m(self, Fs)\u001b[0m\n\u001b[1;32m     57\u001b[0m         \u001b[0;32mfor\u001b[0m \u001b[0mi\u001b[0m \u001b[0;32min\u001b[0m \u001b[0mrange\u001b[0m\u001b[0;34m(\u001b[0m\u001b[0;36m1\u001b[0m\u001b[0;34m,\u001b[0m \u001b[0mlen\u001b[0m\u001b[0;34m(\u001b[0m\u001b[0mFs\u001b[0m\u001b[0;34m[\u001b[0m\u001b[0;34m:\u001b[0m\u001b[0;34m,\u001b[0m \u001b[0;36m0\u001b[0m\u001b[0;34m]\u001b[0m\u001b[0;34m)\u001b[0m\u001b[0;34m)\u001b[0m\u001b[0;34m:\u001b[0m\u001b[0;34m\u001b[0m\u001b[0m\n\u001b[1;32m     58\u001b[0m             \u001b[0mFt\u001b[0m \u001b[0;34m=\u001b[0m \u001b[0mVariable\u001b[0m\u001b[0;34m(\u001b[0m\u001b[0mnp\u001b[0m\u001b[0;34m.\u001b[0m\u001b[0marray\u001b[0m\u001b[0;34m(\u001b[0m\u001b[0;34m[\u001b[0m\u001b[0mFs\u001b[0m\u001b[0;34m[\u001b[0m\u001b[0mi\u001b[0m\u001b[0;34m]\u001b[0m\u001b[0;34m]\u001b[0m\u001b[0;34m,\u001b[0m \u001b[0mdtype\u001b[0m\u001b[0;34m=\u001b[0m\u001b[0mnp\u001b[0m\u001b[0;34m.\u001b[0m\u001b[0mfloat32\u001b[0m\u001b[0;34m)\u001b[0m\u001b[0;34m)\u001b[0m\u001b[0;34m\u001b[0m\u001b[0m\n\u001b[0;32m---> 59\u001b[0;31m             \u001b[0mds\u001b[0m \u001b[0;34m=\u001b[0m \u001b[0mF\u001b[0m\u001b[0;34m.\u001b[0m\u001b[0mtanh\u001b[0m\u001b[0;34m(\u001b[0m\u001b[0mself\u001b[0m\u001b[0;34m.\u001b[0m\u001b[0mw\u001b[0m\u001b[0;34m(\u001b[0m\u001b[0mFt\u001b[0m\u001b[0;34m)\u001b[0m \u001b[0;34m+\u001b[0m \u001b[0mself\u001b[0m\u001b[0;34m.\u001b[0m\u001b[0mb\u001b[0m\u001b[0;34m(\u001b[0m\u001b[0mone\u001b[0m\u001b[0;34m)\u001b[0m \u001b[0;34m+\u001b[0m \u001b[0mself\u001b[0m\u001b[0;34m.\u001b[0m\u001b[0mu\u001b[0m\u001b[0;34m(\u001b[0m\u001b[0md_1\u001b[0m\u001b[0;34m)\u001b[0m\u001b[0;34m)\u001b[0m\u001b[0;34m\u001b[0m\u001b[0m\n\u001b[0m\u001b[1;32m     60\u001b[0m             \u001b[0md\u001b[0m\u001b[0;34m[\u001b[0m\u001b[0mi\u001b[0m\u001b[0;34m]\u001b[0m \u001b[0;34m=\u001b[0m \u001b[0mds\u001b[0m\u001b[0;34m.\u001b[0m\u001b[0mdata\u001b[0m\u001b[0;34m[\u001b[0m\u001b[0;36m0\u001b[0m\u001b[0;34m]\u001b[0m\u001b[0;34m\u001b[0m\u001b[0m\n\u001b[1;32m     61\u001b[0m         \u001b[0;32mreturn\u001b[0m \u001b[0md\u001b[0m\u001b[0;34m\u001b[0m\u001b[0m\n",
      "\u001b[0;32m/Users/masakato/anaconda/lib/python3.6/site-packages/chainer/links/connection/linear.py\u001b[0m in \u001b[0;36m__call__\u001b[0;34m(self, x)\u001b[0m\n\u001b[1;32m     90\u001b[0m             \u001b[0;32mwith\u001b[0m \u001b[0mcuda\u001b[0m\u001b[0;34m.\u001b[0m\u001b[0mget_device\u001b[0m\u001b[0;34m(\u001b[0m\u001b[0mself\u001b[0m\u001b[0;34m.\u001b[0m\u001b[0m_device_id\u001b[0m\u001b[0;34m)\u001b[0m\u001b[0;34m:\u001b[0m\u001b[0;34m\u001b[0m\u001b[0m\n\u001b[1;32m     91\u001b[0m                 \u001b[0mself\u001b[0m\u001b[0;34m.\u001b[0m\u001b[0m_initialize_params\u001b[0m\u001b[0;34m(\u001b[0m\u001b[0mx\u001b[0m\u001b[0;34m.\u001b[0m\u001b[0msize\u001b[0m \u001b[0;34m//\u001b[0m \u001b[0mx\u001b[0m\u001b[0;34m.\u001b[0m\u001b[0mshape\u001b[0m\u001b[0;34m[\u001b[0m\u001b[0;36m0\u001b[0m\u001b[0;34m]\u001b[0m\u001b[0;34m)\u001b[0m\u001b[0;34m\u001b[0m\u001b[0m\n\u001b[0;32m---> 92\u001b[0;31m         \u001b[0;32mreturn\u001b[0m \u001b[0mlinear\u001b[0m\u001b[0;34m.\u001b[0m\u001b[0mlinear\u001b[0m\u001b[0;34m(\u001b[0m\u001b[0mx\u001b[0m\u001b[0;34m,\u001b[0m \u001b[0mself\u001b[0m\u001b[0;34m.\u001b[0m\u001b[0mW\u001b[0m\u001b[0;34m,\u001b[0m \u001b[0mself\u001b[0m\u001b[0;34m.\u001b[0m\u001b[0mb\u001b[0m\u001b[0;34m)\u001b[0m\u001b[0;34m\u001b[0m\u001b[0m\n\u001b[0m",
      "\u001b[0;32m/Users/masakato/anaconda/lib/python3.6/site-packages/chainer/functions/connection/linear.py\u001b[0m in \u001b[0;36mlinear\u001b[0;34m(x, W, b)\u001b[0m\n\u001b[1;32m     77\u001b[0m         \u001b[0;32mreturn\u001b[0m \u001b[0mLinearFunction\u001b[0m\u001b[0;34m(\u001b[0m\u001b[0;34m)\u001b[0m\u001b[0;34m(\u001b[0m\u001b[0mx\u001b[0m\u001b[0;34m,\u001b[0m \u001b[0mW\u001b[0m\u001b[0;34m)\u001b[0m\u001b[0;34m\u001b[0m\u001b[0m\n\u001b[1;32m     78\u001b[0m     \u001b[0;32melse\u001b[0m\u001b[0;34m:\u001b[0m\u001b[0;34m\u001b[0m\u001b[0m\n\u001b[0;32m---> 79\u001b[0;31m         \u001b[0;32mreturn\u001b[0m \u001b[0mLinearFunction\u001b[0m\u001b[0;34m(\u001b[0m\u001b[0;34m)\u001b[0m\u001b[0;34m(\u001b[0m\u001b[0mx\u001b[0m\u001b[0;34m,\u001b[0m \u001b[0mW\u001b[0m\u001b[0;34m,\u001b[0m \u001b[0mb\u001b[0m\u001b[0;34m)\u001b[0m\u001b[0;34m\u001b[0m\u001b[0m\n\u001b[0m",
      "\u001b[0;32m/Users/masakato/anaconda/lib/python3.6/site-packages/chainer/function.py\u001b[0m in \u001b[0;36m__call__\u001b[0;34m(self, *inputs)\u001b[0m\n\u001b[1;32m    187\u001b[0m \u001b[0;34m\u001b[0m\u001b[0m\n\u001b[1;32m    188\u001b[0m         \u001b[0;32mif\u001b[0m \u001b[0mself\u001b[0m\u001b[0;34m.\u001b[0m\u001b[0mtype_check_enable\u001b[0m\u001b[0;34m:\u001b[0m\u001b[0;34m\u001b[0m\u001b[0m\n\u001b[0;32m--> 189\u001b[0;31m             \u001b[0mself\u001b[0m\u001b[0;34m.\u001b[0m\u001b[0m_check_data_type_forward\u001b[0m\u001b[0;34m(\u001b[0m\u001b[0min_data\u001b[0m\u001b[0;34m)\u001b[0m\u001b[0;34m\u001b[0m\u001b[0m\n\u001b[0m\u001b[1;32m    190\u001b[0m \u001b[0;34m\u001b[0m\u001b[0m\n\u001b[1;32m    191\u001b[0m         \u001b[0mhooks\u001b[0m \u001b[0;34m=\u001b[0m \u001b[0mchainer\u001b[0m\u001b[0;34m.\u001b[0m\u001b[0mget_function_hooks\u001b[0m\u001b[0;34m(\u001b[0m\u001b[0;34m)\u001b[0m\u001b[0;34m\u001b[0m\u001b[0m\n",
      "\u001b[0;32m/Users/masakato/anaconda/lib/python3.6/site-packages/chainer/function.py\u001b[0m in \u001b[0;36m_check_data_type_forward\u001b[0;34m(self, in_data)\u001b[0m\n\u001b[1;32m    271\u001b[0m         \u001b[0min_type\u001b[0m \u001b[0;34m=\u001b[0m \u001b[0mtype_check\u001b[0m\u001b[0;34m.\u001b[0m\u001b[0mget_types\u001b[0m\u001b[0;34m(\u001b[0m\u001b[0min_data\u001b[0m\u001b[0;34m,\u001b[0m \u001b[0;34m'in_types'\u001b[0m\u001b[0;34m,\u001b[0m \u001b[0;32mFalse\u001b[0m\u001b[0;34m)\u001b[0m\u001b[0;34m\u001b[0m\u001b[0m\n\u001b[1;32m    272\u001b[0m         \u001b[0;32mtry\u001b[0m\u001b[0;34m:\u001b[0m\u001b[0;34m\u001b[0m\u001b[0m\n\u001b[0;32m--> 273\u001b[0;31m             \u001b[0mself\u001b[0m\u001b[0;34m.\u001b[0m\u001b[0mcheck_type_forward\u001b[0m\u001b[0;34m(\u001b[0m\u001b[0min_type\u001b[0m\u001b[0;34m)\u001b[0m\u001b[0;34m\u001b[0m\u001b[0m\n\u001b[0m\u001b[1;32m    274\u001b[0m         \u001b[0;32mexcept\u001b[0m \u001b[0mtype_check\u001b[0m\u001b[0;34m.\u001b[0m\u001b[0mInvalidType\u001b[0m \u001b[0;32mas\u001b[0m \u001b[0me\u001b[0m\u001b[0;34m:\u001b[0m\u001b[0;34m\u001b[0m\u001b[0m\n\u001b[1;32m    275\u001b[0m             msg = \"\"\"\n",
      "\u001b[0;32m/Users/masakato/anaconda/lib/python3.6/site-packages/chainer/functions/connection/linear.py\u001b[0m in \u001b[0;36mcheck_type_forward\u001b[0;34m(self, in_types)\u001b[0m\n\u001b[1;32m     19\u001b[0m             \u001b[0mx_type\u001b[0m\u001b[0;34m.\u001b[0m\u001b[0mdtype\u001b[0m\u001b[0;34m.\u001b[0m\u001b[0mkind\u001b[0m \u001b[0;34m==\u001b[0m \u001b[0;34m'f'\u001b[0m\u001b[0;34m,\u001b[0m\u001b[0;34m\u001b[0m\u001b[0m\n\u001b[1;32m     20\u001b[0m             \u001b[0mw_type\u001b[0m\u001b[0;34m.\u001b[0m\u001b[0mdtype\u001b[0m\u001b[0;34m.\u001b[0m\u001b[0mkind\u001b[0m \u001b[0;34m==\u001b[0m \u001b[0;34m'f'\u001b[0m\u001b[0;34m,\u001b[0m\u001b[0;34m\u001b[0m\u001b[0m\n\u001b[0;32m---> 21\u001b[0;31m             \u001b[0mx_type\u001b[0m\u001b[0;34m.\u001b[0m\u001b[0mndim\u001b[0m \u001b[0;34m>=\u001b[0m \u001b[0;36m2\u001b[0m\u001b[0;34m,\u001b[0m\u001b[0;34m\u001b[0m\u001b[0m\n\u001b[0m\u001b[1;32m     22\u001b[0m             \u001b[0mw_type\u001b[0m\u001b[0;34m.\u001b[0m\u001b[0mndim\u001b[0m \u001b[0;34m==\u001b[0m \u001b[0;36m2\u001b[0m\u001b[0;34m,\u001b[0m\u001b[0;34m\u001b[0m\u001b[0m\n\u001b[1;32m     23\u001b[0m             \u001b[0mtype_check\u001b[0m\u001b[0;34m.\u001b[0m\u001b[0mprod\u001b[0m\u001b[0;34m(\u001b[0m\u001b[0mx_type\u001b[0m\u001b[0;34m.\u001b[0m\u001b[0mshape\u001b[0m\u001b[0;34m[\u001b[0m\u001b[0;36m1\u001b[0m\u001b[0;34m:\u001b[0m\u001b[0;34m]\u001b[0m\u001b[0;34m)\u001b[0m \u001b[0;34m==\u001b[0m \u001b[0mw_type\u001b[0m\u001b[0;34m.\u001b[0m\u001b[0mshape\u001b[0m\u001b[0;34m[\u001b[0m\u001b[0;36m1\u001b[0m\u001b[0;34m]\u001b[0m\u001b[0;34m,\u001b[0m\u001b[0;34m\u001b[0m\u001b[0m\n",
      "\u001b[0;32m/Users/masakato/anaconda/lib/python3.6/site-packages/chainer/utils/type_check.py\u001b[0m in \u001b[0;36m__getattr__\u001b[0;34m(self, name)\u001b[0m\n\u001b[1;32m    143\u001b[0m         \u001b[0;32mraise\u001b[0m \u001b[0mNotImplementedError\u001b[0m\u001b[0;34m(\u001b[0m\u001b[0;34m)\u001b[0m\u001b[0;34m\u001b[0m\u001b[0m\n\u001b[1;32m    144\u001b[0m \u001b[0;34m\u001b[0m\u001b[0m\n\u001b[0;32m--> 145\u001b[0;31m     \u001b[0;32mdef\u001b[0m \u001b[0m__getattr__\u001b[0m\u001b[0;34m(\u001b[0m\u001b[0mself\u001b[0m\u001b[0;34m,\u001b[0m \u001b[0mname\u001b[0m\u001b[0;34m)\u001b[0m\u001b[0;34m:\u001b[0m\u001b[0;34m\u001b[0m\u001b[0m\n\u001b[0m\u001b[1;32m    146\u001b[0m         \u001b[0;32mreturn\u001b[0m \u001b[0mGetAttr\u001b[0m\u001b[0;34m(\u001b[0m\u001b[0mself\u001b[0m\u001b[0;34m,\u001b[0m \u001b[0mname\u001b[0m\u001b[0;34m)\u001b[0m\u001b[0;34m\u001b[0m\u001b[0m\n\u001b[1;32m    147\u001b[0m \u001b[0;34m\u001b[0m\u001b[0m\n",
      "\u001b[0;31mKeyboardInterrupt\u001b[0m: "
     ]
    }
   ],
   "source": [
    "drnn.learning()"
   ]
  },
  {
   "cell_type": "code",
   "execution_count": 81,
   "metadata": {
    "collapsed": false
   },
   "outputs": [
    {
     "data": {
      "text/plain": [
       "array([ 1.        ,  0.98014104,  0.98014009,  0.98014164,  0.98014164,\n",
       "        0.98013926,  0.98014021,  0.980142  ,  0.98014307,  0.98014224,\n",
       "        0.98014134,  0.98014069,  0.98014069,  0.98014206,  0.98014051,\n",
       "        0.98013997,  0.98014122,  0.98014182,  0.98014104,  0.98014075,\n",
       "        0.98013979,  0.98014027,  0.98014009,  0.98014122,  0.98014134,\n",
       "        0.98014045,  0.98014015,  0.98014086,  0.98014075,  0.98014051,\n",
       "        0.98014218,  0.98014104,  0.98014212,  0.98014206,  0.98014015,\n",
       "        0.98014152,  0.98014051,  0.98014027,  0.98013979,  0.98014075,\n",
       "        0.98014402,  0.98014623,  0.98014086,  0.98014194,  0.98014438,\n",
       "        0.98014009,  0.98013848,  0.98014152,  0.98014659,  0.98014772,\n",
       "        0.98014385,  0.98014617,  0.98014063,  0.98014522,  0.98014104,\n",
       "        0.98014086,  0.98014158,  0.98014271,  0.9801442 ,  0.98014045,\n",
       "        0.98014069,  0.98014235,  0.98014522,  0.98014319,  0.98014116,\n",
       "        0.98014075,  0.98014128,  0.98014629,  0.98014015,  0.9801392 ,\n",
       "        0.98014051,  0.98014122,  0.98014098,  0.98014235,  0.98013902,\n",
       "        0.98014486,  0.980142  ,  0.9801383 ,  0.98013937,  0.98014122,\n",
       "        0.98014539,  0.98014629,  0.98014158,  0.98014086,  0.98014206,\n",
       "        0.98014086,  0.98013985,  0.98014039,  0.980142  ,  0.98014206,\n",
       "        0.98014128,  0.9801392 ,  0.98013973,  0.98014104,  0.98014057,\n",
       "        0.98013926,  0.98014098,  0.98014241,  0.98014003,  0.98014086])"
      ]
     },
     "execution_count": 81,
     "metadata": {},
     "output_type": "execute_result"
    }
   ],
   "source": [
    "bv, Ft = drnn.model.ae_fwd(np.array(drnn.fs, dtype=np.float32))\n",
    "drnn.model.delta(Ft.data)"
   ]
  },
  {
   "cell_type": "code",
   "execution_count": 77,
   "metadata": {
    "collapsed": false
   },
   "outputs": [
    {
     "data": {
      "text/plain": [
       "(100, 60)"
      ]
     },
     "execution_count": 77,
     "metadata": {},
     "output_type": "execute_result"
    }
   ],
   "source": [
    "drnn.fs.shape"
   ]
  },
  {
   "cell_type": "code",
   "execution_count": null,
   "metadata": {
    "collapsed": true
   },
   "outputs": [],
   "source": [
    "drnn.model.delta(Ft.data)"
   ]
  }
 ],
 "metadata": {
  "kernelspec": {
   "display_name": "Python 3",
   "language": "python",
   "name": "python3"
  },
  "language_info": {
   "codemirror_mode": {
    "name": "ipython",
    "version": 3
   },
   "file_extension": ".py",
   "mimetype": "text/x-python",
   "name": "python",
   "nbconvert_exporter": "python",
   "pygments_lexer": "ipython3",
   "version": "3.6.0"
  }
 },
 "nbformat": 4,
 "nbformat_minor": 0
}
